{
 "cells": [
  {
   "cell_type": "markdown",
   "metadata": {},
   "source": [
    "## 导包"
   ]
  },
  {
   "cell_type": "code",
   "execution_count": 16,
   "metadata": {},
   "outputs": [],
   "source": [
    "import os\n",
    "from pdfminer.high_level import extract_text\n",
    "from langchain.text_splitter import RecursiveCharacterTextSplitter\n",
    "from langchain.vectorstores import Chroma\n",
    "from langchain.embeddings import HuggingFaceEmbeddings\n",
    "from transformers import AutoConfig,  AutoTokenizer, AutoModel\n",
    "from openai import OpenAI\n"
   ]
  },
  {
   "cell_type": "markdown",
   "metadata": {},
   "source": [
    "## 获取所有文献的路径"
   ]
  },
  {
   "cell_type": "code",
   "execution_count": 3,
   "metadata": {},
   "outputs": [
    {
     "data": {
      "text/plain": [
       "['./papers\\\\Enantioselective Iridium-Catalyzed Allylic Substitution with 2-Methylpyridines.pdf',\n",
       " './papers\\\\Iridium-Catalyzed Asymmetric Allylic Amination Reaction with N-Aryl Phosphoramidite Ligands.pdf']"
      ]
     },
     "execution_count": 3,
     "metadata": {},
     "output_type": "execute_result"
    }
   ],
   "source": [
    "root_dir = \"./papers\"\n",
    "def extract_file_dirs(directory):\n",
    "    file_paths = []\n",
    "    for root, dirs, files in os.walk(directory):\n",
    "        for file in files:\n",
    "            if file.endswith(\".pdf\"):\n",
    "                fp = os.path.join(root, file)\n",
    "                file_paths.append(fp)\n",
    "    return file_paths\n",
    "\n",
    "files = extract_file_dirs(root_dir)\n",
    "files"
   ]
  },
  {
   "cell_type": "markdown",
   "metadata": {},
   "source": [
    "## 获取其中某一篇文献的文字"
   ]
  },
  {
   "cell_type": "code",
   "execution_count": 4,
   "metadata": {},
   "outputs": [
    {
     "data": {
      "text/plain": [
       "['Communications\\n\\nAngewandte\\n\\nChemie\\n\\nAsymmetric Catalysis\\n\\nInternational Edition: DOI: 10.1002/anie.201700433\\nGerman Edition:\\nDOI: 10.1002/ange.201700433\\n\\nEnantioselective Iridium-Catalyzed Allylic Substitution with\\n2-Methylpyridines\\nXi-Jia Liu and Shu-Li You*\\n\\nAbstract: An enantioselective iridium-catalyzed allylic sub-\\nstitution with a set of highly unstabilized nucleophiles gen-\\nerated in situ from 2-methylpyridines is described. Enantioen-\\nriched 2-substituted pyridines, which are frequently encoun-\\ntered in natural products and pharmaceuticals, could be easily\\nconstructed by this simple method in good yields and excellent\\nenantioselectivity. The synthetic utility of the pyridine products\\nis demonstrated through the synthesis of a key intermediate of\\na reported Na+/H+ exchanger inhibitor and the total synthesis\\nof ((cid:2))-lycopladine A.\\n\\nPyridines are among the most prevalent heterocyclic\\n\\nstructural moieties in biologically active natural products,\\npharmaceuticals, and agrochemicals.[1] For example, twelve\\nsmall molecules containing a pyridine motif were listed in the\\ntop 200 pharmaceutical products in 2012, including the top\\nentry, Nexium.[2] Therefore, diverse functionalization of\\npyridine derivatives could lead to wide applications in many\\nfields.[3] One aspect of our ongoing efforts to develop methods\\nto build complex and biologically active molecules is the\\napplication of iridium-catalyzed allylic substitution reactions\\nwith heteroaromatic compounds as nucleophiles.[4]\\n\\nIridium-catalyzed enantioselective allylic substitution\\nreactions have become a powerful tool for constructing\\ncarbon–heteroatom and carbon–carbon bonds, and they have\\nfound extensive application in the total synthesis of natural\\nproducts and the preparation of bioactive compounds.[5]\\nAlthough a wide range of nucleophiles can be employed in\\nthese reactions, unstabilized carbon-type nucleophiles have\\nbeen much less studied and have been mainly limited to\\nenolates, organoborons, and aryl- or alkylzinc bromides[6]\\nowing to challenges relating to reactivity and controlling the\\nregio- and enantioselectivity. The exploration of unstabilized\\nnucleophiles in iridium-catalyzed asymmetric allylic substitu-\\ntion is thus still of great importance.\\n\\nRecently,\\n\\ntransition-metal-catalyzed allylic alkylation\\nreactions of unstabilized benzylic nucleophiles have attracted\\n\\n[*] X.-J. Liu, Prof. Dr. S.-L. You\\n\\nState Key Laboratory of Organometallic Chemistry\\nShanghai Institute of Organic Chemistry\\nChinese Academy of Sciences\\n345 Lingling Lu, Shanghai 200032 (China)\\nE-mail: slyou@sioc.ac.cn\\nHomepage: http://shuliyou.sioc.ac.cn/\\n\\nProf. Dr. S.-L. You\\nCollaborative Innovation Center of Chemical Science and\\nEngineering, Tianjin (China)\\n\\nSupporting information and the ORCID identification number(s) for\\nthe author(s) of this article can be found under:\\nhttp://dx.doi.org/10.1002/anie.201700433.\\n\\ninterest because of their applications in the synthesis of\\na broad diversity of complex molecules.[7] Pioneering works\\nfrom the groups of Trost[7a] and Walsh[7h] have led to\\nimpressive palladium-catalyzed processes for asymmetric\\nallylic alkylation with 2-methylpyridine derivatives (pKa\\n(cid:3) 34[8a]) and toluene derivatives (pKa (cid:3) 44[8b]), respectively.\\nIn these studies, elegant strategies have been developed that\\ninvolve the addition of activating agents to stabilize the\\nresulting anionic charge. To date, there are only a few\\nexamples of these reactions in a catalytic asymmetric version,\\nand the reaction scope is very limited. Inspired by these\\nstudies, we envisaged that the alkyl nucleophiles generated\\nin situ from 2-methylpyridines might be compatible with\\niridium-catalyzed asymmetric allylic substitution reactions.\\nUnder iridium catalysis, complementary selectivity and sub-\\nstrate scope would facilitate the utility of the methods in the\\nsynthesis of natural products and bioactive molecules\\n(Figure 1).[9] Herein, we describe the first iridium-catalyzed\\nasymmetric allylic substitution reaction with highly unstabi-\\nlized alkyl nucleophiles derived in situ from 2-methylpyri-\\ndines.\\n\\nFigure 1. Selected bioactive compounds and natural products that\\ncontain the circled structural motif.\\n\\nWe began our study by testing the reaction of tert-butyl\\ncinnamyl carbonate with the complex generated in situ from\\n2-methylpyridine and BF3·OEt2 with different\\nligands\\n(Table 1). It\\nis proposed that BF3·OEt2 coordinates to\\npyridine nitrogen to increase the acidity of the proton of the\\nmethyl group and stabilize the resulting carboanion. The\\nFeringa ligand and its variants (L1, L2, L3, and L4) afforded\\nthe desired product in varied yields and enantioselectivity. To\\nour delight, the Alexakis ligand L2 gave 3 a in 71 % yield and\\n95 % ee. The reactions with L5 or L6 only led to a trace\\namount of product. The reaction outcomes of ligands L7, L8,\\nand L9 were unsatisfactory, and only L7, which contains\\na methoxy group, afforded 3 a in 27 % yield and 84 % ee.\\nFurther optimization of the reaction conditions revealed that\\nLiHMDS is the optimal base, but multiple equivalents\\n\\nAngew. Chem. Int. Ed. 2017, 56, 1 – 5\\n\\n(cid:2) 2017 Wiley-VCH Verlag GmbH & Co. KGaA, Weinheim\\n\\nThese are not the final page numbers! (cid:2)\\n\\n1\\n\\n(cid:2)\\n\\n\\x0cCommunications\\n\\nAngewandte\\n\\nChemie\\n\\nTable 1: Optimization of the reaction conditions.[a]\\n\\nTable 2: Substrate scope with respect to the allyl carbonates.[a,b,c]\\n\\nEntry\\n\\n1\\n2\\n3\\n4\\n5\\n6\\n7\\n8\\n9\\n10[d]\\n11[e]\\n12[f ]\\n\\nL\\n\\nL1\\nL2\\nL3\\nL4\\nL5\\nL6\\nL7\\nL8\\nL9\\nL2\\nL2\\nL2\\n\\nYield [%][b]\\n\\nee [%][c]\\n\\n23\\n71\\n20\\n42\\ntrace\\ntrace\\n27\\ntrace\\ntrace\\n73\\n71\\n54\\n\\n84\\n95\\n80\\n(cid:2)77\\n–\\n–\\n84\\n–\\n–\\n97\\n97\\n97\\n\\n[a] Reaction conditions: [Ir(cod)Cl]2 (4 mol %), L (8 mol %), 1 a\\n(0.3 mmol), 2 a (0.2 mmol), BF3·Et2O (0.26 mmol) and LiHMDS (0.7 mL,\\n1 m in THF) in THF (2 mL) at 30 8C. THF = tetrahydrofuran. Catalyst was\\nprepared through nPrNH2 activation.[11] [b] Yield of isolated product.\\n[c] Determined by HPLC analysis. [d] K1 (8 mol %) as catalyst. [e] K1\\n(6 mol %) as catalyst. [f ] K1 (4 mol %) as catalyst.\\n\\n(3.5 equiv) were required for full conversion. Next, solvents\\nwere surveyed and THF was found to be the optimal one (see\\nthe Supporting Information for details). To simplify the\\noperational procedure, the iridium complex K1[10] (8 mol %),\\nprepared from the optimal ligand L2, was used directly. The\\nreaction gave a similar yield with an increased enantioselec-\\ntivity (97 % ee). To our delight, it was found that 71 % yield\\nwas obtained in the presence of 6 mol % catalyst without any\\neffect on enantioselectivity. However, the reaction did not\\nproceed to full conversion when 4 mol % of K1 was used.\\nBased on these results, the optimal reaction conditions were\\nestablished as described in Table 1, entry 11.\\n\\nWith the optimal reaction conditions in hand, we under-\\ntook studies on the scope and limitations of the allylic\\nalkylation reaction. As depicted in Table 2, with 1 a as the\\nnucleophile, allyl carbonates containing 4-MeO, 4-Me, 4-F, 3-\\nMeO, and 3-Me substituents on the phenyl ring were\\nexamined and were found to be well tolerated, delivering\\nthe corresponding products efficiently (3 b, 3 c, 3 d, 3 g, 3 h, 71–\\n90 % yields, 96–98 % ee). Although substrates bearing 4-Cl or\\n4-Br were less reactive, reactions in the presence of 8 mol %\\nof the catalyst delivered the products in moderate yields with\\nexcellent enantioselectivity (3 e, 3 f, 76–78 % yields, 97 % ee).\\n\\n[a] Reaction conditions: K1 (6 mol %), 1 (0.3 mmol), 2 a (0.2 mmol),\\nBF3·Et2O (0.26 mmol) and LiHMDS (0.7 mL, 1 m in THF) in THF (2 mL)\\nat 30 8C. [b] Yield of isolated product. [c] Determined by HPLC analysis.\\n[d] K1 (8 mol %) as catalyst.\\n\\nExcellent enantioselectivity was obtained for substrates\\nbearing 3-Br or 3-Cl substituents (3 i, 3 j, 52–60 % yields,\\nthe reaction with tert-butyl crotyl\\n96 % ee). However,\\ncarbonate occurred to give only trace amounts of product\\nwith a low branch-to-linear ratio. These results suggest that\\nthe reaction with the unstabilized carbon nucleophiles is more\\nsensitive to the electronic and steric properties of the allyl\\ncarbonates compared to reactions with soft carbon nucleo-\\nphiles. To our delight, heteroaryl allylic carbonates, such as\\nthose derived from 2-thienyl and 3-indolyl, were compatible\\nunder the optimized conditions (3 l, 3 m, 69–71 % yields, 96–\\n98 % ee).\\n\\nSubsequently, we set out to investigate the scope with\\nrespect to the nucleophiles. A variety of 2-methylpyridines\\nwith diverse substituents were examined (Table 3). Alkyl or\\nphenyl substituents at the 3-, 4-, or 5-positions of pyridine\\nwere tolerated, delivering the desired products smoothly (4 a–\\nc, 4 h–j, 70–94 % yields, 95–98 % ee). It is worth noting that\\nvinyl and alkynyl groups were also well tolerated (4 f, 4 g, 65–\\n87 % yields, 96–97 % ee). Gratifyingly, the allylation reactions\\nof 2-methyl pyridines bearing a bromide group at the 3- or 5-\\nposition occurred smoothly to give products in excellent\\nenantioselectivity (4 d, 4 e, 97–98 % ee).\\n\\nTo demonstrate the utility of the current method, it was\\napplied in the synthesis of biologically interesting compounds\\nand natural products. Product 4 g was converted into the\\ncorresponding olefin compound through ring-closing meta-\\nthesis (RCM). Hydroboration and oxidation yielded the\\ncorresponding alcohol, and oxidation with MnO2\\nthen\\ngenerated the key intermediate 6 with high enantiopurity.\\nThe latter compound can be converted into a previously\\ndescribed Na+/H+ exchanger inhibitor by following the\\nreported procedure (Scheme 1).[9a]\\n\\n2\\n\\nwww.angewandte.org\\n\\n(cid:2) 2017 Wiley-VCH Verlag GmbH & Co. KGaA, Weinheim\\n\\nAngew. Chem. Int. Ed. 2017, 56, 1 – 5\\n\\n(cid:2)(cid:2)These are not the final page numbers!\\n\\n\\x0cCommunications\\n\\nAngewandte\\n\\nChemie\\n\\nTable 3: Substrate scope with respect to 2-methylpyridines.[a,b,c]\\n\\n[a] Reaction conditions: K1 (6 mol %), 1 (0.3 mmol), 2 a (0.2 mmol),\\nBF3·Et2O (0.26 mmol) and LiHMDS (0.7 mL, 1 m in THF) in THF (2 mL)\\nat 30 8C. [b] Yield of isolated product. [c] Determined by HPLC analysis.\\n[d] K1 (8 mol %) as catalyst.\\n\\nScheme 1. Preparation of a key intermediate of an Na+/H+ exchanger\\ninhibitor.\\n\\nNext, an asymmetric total synthesis of ((cid:2))-lycopladine A\\nwas carried out. Lycopladine A is a tricyclic alkaloid featuring\\na pyridyl-fused hydrindanone core and three stereocenters,\\nincluding an all-carbon quaternary center. It shows modest\\nbut selective cytotoxicity toward murine lymphoma L1210\\ncells (IC50 = 7 mg mL(cid:2)1).[7c, 9c] The unusual structure and inter-\\nesting biological activity of lycopladine A have aroused the\\ninterest of several synthetic groups, which has led to\\nsuccessful total syntheses by Toste, Martin, Hiroya, Yang\\nand Meng.[12] Our synthesis of lycopladine A by the current\\nmethod is summarized in Scheme 2. Asymmetric allylic\\nalkylation of 1 d with 2 n generated 7 in 67 % yield and 90 %\\nee. Hydroboration of the terminal alkene in 7 provided\\nprimary alcohol 8 in 78 % yield, and 9 a was then obtained\\nthrough a palladium-catalyzed Heck reaction. Cleavage of the\\ndouble bond in 9 a by ozonolysis and subsequent allylic\\nalkylation under palladium catalysis afforded compound 10 in\\n79 % yield. Compound 10 was subjected to pyridinium\\nchlorochromate (PCC) oxidation, followed by treatment\\nwith NaOH (1 %, aq.) to yield tricyclic intermediate 11\\n(45 % yield over two steps). Installation of the methyl group\\nat the b-position of the carbonyl through treatment with\\n[Me2Cu(CN)Li2]\\nled to 12 in 80 % yield with perfect\\nstereoselectivity. Finally, the terminal alkene was transformed\\n\\nScheme 2. Total synthesis of ((cid:2))-lycopladine A. LiHMDS = lithium hex-\\namethyldisilazide, 9-BBN = 9-borabicyclo[3.3.1]nonane, dppb = 1,4-bis-\\n(diphenylphosphino)butane.\\n\\ninto an alcohol to accomplish the total synthesis of lycopla-\\ndine A. The absolute configuration of the synthetic sample of\\nlycopladine A could be assigned through comparison of the\\nsign of the optical rotation with the reported value.[9c, 12a] It is\\nnoteworthy that this route is the first total synthesis of ((cid:2))-\\nlycopladine A through a catalytic asymmetric method.\\n\\nIn summary, we have successfully developed the first\\niridium-catalyzed asymmetric allylic alkylation of 2-methyl-\\npyridine derivatives with high enantioselectivity. With an\\niridium-catalyst derived from a commercially available iri-\\ndium precursor and the Alexakis ligand, the allyl alkylation\\nreaction can tolerate a broad range of allyl carbonates and\\nnucleophiles derived from 2-methylpyridines. The synthetic\\nthe pyridine products has been demonstrated\\nutility of\\nthrough the synthesis of a key intermediate of an Na+/H+\\nexchanger inhibitor with high enantiopurity and the total\\nsynthesis of ((cid:2))-lycopladine A. Further extension of the\\nscope to benzylic nucleophiles and the development of more\\nefficient catalytic systems are currently underway in our\\nlaboratory.\\n\\nAcknowledgements\\n\\nWe thank the National Key Research and Development\\nProgram of China (2016YFA0202900), National Basic\\nResearch Program of China (973 Program 2015CB856600),\\nthe NSFC (21332009, 21361140373, 21421091), and the\\nStrategic Priority Research Program of the Chinese Academy\\nof Sciences (XDB20000000) for generous financial support.\\n\\nConflict of interest\\n\\nThe authors declare no conflict of interest.\\n\\nAngew. Chem. Int. Ed. 2017, 56, 1 – 5\\n\\n(cid:2) 2017 Wiley-VCH Verlag GmbH & Co. KGaA, Weinheim\\n\\nThese are not the final page numbers! (cid:2)\\n\\nwww.angewandte.org\\n\\n3\\n\\n(cid:2)\\n\\n\\x0cCommunications\\n\\nAngewandte\\n\\nChemie\\n\\nKeywords: asymmetric catalysis · homogeneous catalysis ·\\niridium · pyridines · unstabilized nucleophiles\\n\\n[1] a) P. Kiuru, J. Yli-Kauhaluoma in Heterocycles in Natural\\nProduct Synthesis (Eds.: K. C. Majumdar, S. K. Chattopadhyay),\\nWiley-VCH, Weinheim, 2011, p. 267; b) J.-X. Qiao in Hetero-\\ncyclic Chemistry in Drug Discovery (Ed.: J.-J. Li), Wiley,\\nHoboken, 2013, p. 398; c) E. Vitaku, D. T. Smith, J. T. Njardar-\\nson, J. Med. Chem. 2014, 57, 10257.\\n\\n[2] http://www.pharmacytimes.com/publications/issue/2013/\\n\\njuly2013/top-200-drugs-of-2012.\\n\\n[3] a) M. D. Hill, Chem. Eur. J. 2010, 16, 12052; b) Y. Nakao,\\nSynthesis 2011, 3209; c) J. A. Bull, J. J. Mousseau, G. Pelletier,\\nA. B. Charette, Chem. Rev. 2012, 112, 2642; d) D. Best, H. W.\\nLam, J. Org. Chem. 2014, 79, 831.\\n\\n[4] For a review: a) C.-X. Zhuo, C. Zheng, S.-L. You, Acc. Chem.\\nRes. 2014, 47, 2558; for selected recent examples: b) X. Zhang, L.\\nHan, S.-L. You, Chem. Sci. 2014, 5, 1059; c) Z.-P. Yang, Q.-F. Wu,\\nS.-L. You, Angew. Chem. Int. Ed. 2014, 53, 6986; Angew. Chem.\\n2014, 126, 7106; d) C.-X. Zhuo, Q. Cheng, W.-B. Liu, Q. Zhao, S.-\\nL. You, Angew. Chem. Int. Ed. 2015, 54, 8475; Angew. Chem.\\n2015, 127, 8595; e) X. Zhang, W.-B. Liu, H.-F. Tu, S.-L. You,\\nChem. Sci. 2015, 6, 4525; f) C.-X. Zhuo, Y. Zhou, Q. Cheng, L.\\nHuang, S.-L. You, Angew. Chem. Int. Ed. 2015, 54, 14146;\\nAngew. Chem. 2015, 127, 14352; g) Z.-P. Yang, Q.-F. Wu, W.\\nShao, S.-L. You, J. Am. Chem. Soc. 2015, 137, 15899; h) L.\\nHuang, L.-X. Dai, S.-L. You, J. Am. Chem. Soc. 2016, 138, 5793.\\n[5] Selected reviews: a) G. Helmchen, A. Dahnz, P. D(cid:2)bon, M.\\nSchelwies, R. Weihofen, Chem. Commun. 2007, 675; b) G.\\nHelmchen in Iridium Complexes in Organic Synthesis (Eds.:\\nL. A. Oro, C. Claver), Wiley-VCH, Weinheim, 2009, p. 211;\\nc) J. F. Hartwig, L. M. Stanley, Acc. Chem. Res. 2010, 43, 1461;\\nd) J. F. Hartwig, M. J. Pouy, Top. Organomet. Chem. 2011, 34,\\n169; e) W.-B. Liu, J.-B. Xia, S.-L. You, Top. Organomet. Chem.\\n2012, 38, 155; f) P. Tosatti, A. Nelson, S. P. Marsden, Org.\\nBiomol. Chem. 2012, 10, 3147; g) W. Liu, X. Zhao, Synthesis\\n2013, 2051; for the first racemic example: h) R. Takeuchi, M.\\nKashio, Angew. Chem. Int. Ed. Engl. 1997, 36, 263; Angew.\\nChem. 1997, 109, 268; for the first asymmetric example: i) J. P.\\nJanssen, G. Helmchen, Tetrahedron Lett. 1997, 38, 8025; for\\nselected recent examples:\\nj) M. A. Schafroth, D. Sarlah, S.\\nKrautwald, E. M. Carreira, J. Am. Chem. Soc. 2012, 134, 20276;\\nk) S. T. Madrahimov, J. F. Hartwig, J. Am. Chem. Soc. 2012, 134,\\n8136; l) W.-B. Liu, C. M. Reeves, B. M. Stoltz, J. Am. Chem. Soc.\\n2013, 135, 17298; m) W.-B. Liu, C. M. Reeves, S. C. Virgil, B. M.\\nStoltz, J. Am. Chem. Soc. 2013, 135, 10626; n) W. Chen, J. F.\\nHartwig, J. Am. Chem. Soc. 2014, 136, 377; o) D. Zhao, M.\\nFaÇan(cid:3)s-Mastral, M.-C. Chang, E. Otten, B. L. Feringa, Chem.\\nSci. 2014, 5, 4216; p) J. Qu, L. Roßberg, G. Helmchen, J. Am.\\nChem. Soc. 2014, 136, 1272; q) R. L. Grange, E. A. Clizbe, E. J.\\nCounsell, P. A. Evans, Chem. Sci. 2015, 6, 777; r) S. Breitler,\\nE. M. Carreira, J. Am. Chem. Soc. 2015, 137, 5296; s) X. Liang,\\nS.-Z. Jiang, K. Wei, Y.-R. Yang, J. Am. Chem. Soc. 2016, 138,\\n2560; t) S.-Z. Jiang, X.-Y. Zeng, X. Liang, T. Lei, K. Wei, Y.-R.\\nYang, Angew. Chem. Int. Ed. 2016, 55, 4044; Angew. Chem. 2016,\\n128, 4112; u) W.-B. Liu, N. Okamoto, E. J. Alexy, A. Y. Hong, K.\\nTran, B. M. Stoltz, J. Am. Chem. Soc. 2016, 138, 5234; v) X. Hou,\\nR. He, X. Zhang, W. Zhang, J. Am. Chem. Soc. 2016, 138, 11093;\\nw) J. Liu, C.-G. Cao, H.-B. Sun, X. Zhang, D. Niu, J. Am. Chem.\\nSoc. 2016, 138, 13103.\\n\\n2007, 9, 3393; c) D. Polet, X. Rathgeb, C. A. Falciola, J.-B.\\nLanglois, S. E. Hajjaji, A. Alexakis, Chem. Eur. J. 2009, 15, 1205;\\nd) W. Chen, J. F. Hartwig, J. Am. Chem. Soc. 2012, 134, 15249;\\ne) J. Y. Hamilton, D. Sarlah, E. M. Carreira, J. Am. Chem. Soc.\\n2013, 135, 994; f) J. Y. Hamilton, D. Sarlah, E. M. Carreira,\\nAngew. Chem. Int. Ed. 2013, 52, 7532; Angew. Chem. 2013, 125,\\n7680; g) W. Chen, M. Chen, J. F. Hartwig, J. Am. Chem. Soc.\\n2014, 136, 15825; h) M. Chen, J. F. Hartwig, Angew. Chem. Int.\\nEd. 2014, 53, 8691; Angew. Chem. 2014, 126, 8835; i) M. Chen,\\nJ. F. Hartwig, Angew. Chem. Int. Ed. 2014, 53, 12172; Angew.\\nChem. 2014, 126, 12368; j) M. Chen, J. F. Hartwig, J. Am. Chem.\\nSoc. 2015, 137, 13972; k) J. Y. Hamilton, D. Sarlah, E. M.\\nCarreira, Angew. Chem. Int. Ed. 2015, 54, 7644; Angew. Chem.\\n2015, 127, 7754; l) M. Zhan, R.-Z. Li, Z.-D. Mou, C.-G. Cao, J.\\nLiu, Y.-W. Chen, D. Niu, ACS Catal. 2016, 6, 3381; m) X. Jiang,\\nW. Chen, J. F. Hartwig, Angew. Chem. Int. Ed. 2016, 55, 5819;\\nAngew. Chem. 2016, 128, 5913.\\n\\n[7] a) B. M. Trost, D. A. Thaisrivongs, J. Am. Chem. Soc. 2008, 130,\\n14092; b) B. M. Trost, D. A. Thaisrivongs, J. Am. Chem. Soc.\\n2009, 131, 12056; c) B. M. Trost, D. A. Thaisrivongs, J. Hartwig, J.\\nAm. Chem. Soc. 2011, 133, 12439; d) J. Zhang, C. Stanciu, B.\\nWang, M. M. Hussain, C.-S. Da, P. J. Carroll, S. D. Dreher, P. J.\\nWalsh, J. Am. Chem. Soc. 2011, 133, 20552; e) S.-C. Sha, J.\\nZhang, P. J. Carroll, P. J. Walsh, J. Am. Chem. Soc. 2013, 135,\\n17602; f) Q. Yuan, K. Yao, D. Liu, W. Zhang, Chem. Commun.\\n2015, 51, 11834; g) S.-C. Sha, H. Jiang, J. Mao, A. Bellomo, S. A.\\nJeong, P. J. Walsh, Angew. Chem. Int. Ed. 2016, 55, 1070; Angew.\\nChem. 2016, 128, 1082; h) J. Mao, J. Zhang, H. Jiang, A. Bellomo,\\nM. Zhang, Z. Gao, S. D. Dreher, P. J. Walsh, Angew. Chem. Int.\\nEd. 2016, 55, 2526; Angew. Chem. 2016, 128, 2572.\\n\\n[8] a) P. M. Dewick, Essentials of Organic Chemistry: For Students\\nof Pharmacy, Medicinal Chemistry and Biological Chemistry,\\nWiley, Chichester, 2006; b) F. G. Bordwell, Acc. Chem. Res.\\n1988, 21, 456.\\n\\n[9] a) S. Fukumoto, E. Imamiya, K. J. Kusumoto, S. Fujiwara, T.\\nWatanabe, M. Shiraishi, J. Med. Chem. 2002, 45, 3009; b) X. Ma,\\nD. R. Gang, Nat. Prod. Rep. 2004, 21, 752; c) K. Ishiuchi, T.\\nKubota, H. Morita, J. Kobayashi, Tetrahedron Lett. 2006, 47,\\n3287; d) T. Shigeyama, K. Katakawa, N. Kogure, M. Kitajima, H.\\nTakayama, Org. Lett. 2007, 9, 4069; e) K. Katakawa, N. Kogure,\\nM. Kitajima, H. Takayama, Helv. Chim. Acta 2009, 92, 445; f) Y.\\nHirasawa, J. Kobayashi, H. Morita, Heterocycles 2009, 77, 679;\\ng) M. Kitajima, H. Takayama, Top. Curr. Chem. 2012, 309, 1;\\nh) F. Liu, Y.-C. Liu, W.-W. Jiang, J. He, X.-D. Wu, L.-Y. Peng, J.\\nSu, X. Cheng, Q.-S. Zhao, Nat. Prod. Bioprospect. 2014, 4, 221.\\n[10] a) S. T. Madrahimov, D. Markovic, J. F. Hartwig, J. Am. Chem.\\nSoc. 2009, 131, 7228; b) S. Spiess, J. A. Raskatov, C. Gnamm, K.\\nBrçdner, G. Helmchen, Chem. Eur. J. 2009, 15, 11087; c) J. A.\\nRaskatov, S. Spiess, C. Gnamm, K. Brçdner, F. Rominger, G.\\nHelmchen, Chem. Eur. J. 2010, 16, 6601; d) J. A. Raskatov, M.\\nJ(cid:4)kel, B. F. Straub, F. Rominger, G. Helmchen, Chem. Eur. J.\\n2012, 18, 14314.\\n\\n[11] C. Shu, A. Leitner, J. F. Hartwig, Angew. Chem. Int. Ed. 2004, 43,\\n\\n4797; Angew. Chem. 2004, 116, 4901.\\n\\n[12] a) S. T. Staben, J. J. Kennedy-Smith, D. Huang, B. K. Corkey,\\nR. L. LaLonde, F. D. Toste, Angew. Chem. Int. Ed. 2006, 45,\\n5991; Angew. Chem. 2006, 118, 6137; b) J. E. DeLorbe, M. D.\\nLotz, S. F. Martin, Org. Lett. 2010, 12, 1576; c) K. Hiroya, Y.\\nSuwa, Y. Ichihashi, K. Inamoto, T. Doi, J. Org. Chem. 2011, 76,\\n4522; d) T. Xu, X.-L. Luo, Y.-R. Yang, Tetrahedron Lett. 2013,\\n54, 2858; e) L. Meng, J. Org. Chem. 2016, 81, 7784.\\n\\n[6] a) T. Graening, J. F. Hartwig, J. Am. Chem. Soc. 2005, 127, 17192;\\nb) A. Alexakis, S. E. Hajjaji, D. Polet, X. Rathgeb, Org. Lett.\\n\\nManuscript received: January 13, 2017\\nFinal Article published: && &&, &&&&\\n\\n4\\n\\nwww.angewandte.org\\n\\n(cid:2) 2017 Wiley-VCH Verlag GmbH & Co. KGaA, Weinheim\\n\\nAngew. Chem. Int. Ed. 2017, 56, 1 – 5\\n\\n(cid:2)(cid:2)These are not the final page numbers!\\n\\n\\x0cCommunications\\n\\nAsymmetric Catalysis\\n\\nX.-J. Liu, S.-L. You*\\n\\n&&&&—&&&&\\n\\nEnantioselective Iridium-Catalyzed Allylic\\nSubstitution with 2-Methylpyridines\\n\\nCommunications\\n\\nAngewandte\\n\\nChemie\\n\\nAn enantioselective iridium-catalyzed\\nallylic substitution with a set of highly\\nunstabilized nucleophiles generated\\nin situ from 2-methylpyridines was\\ndeveloped. Enantioenriched 2-substi-\\ntuted pyridines, which are frequently\\n\\nencountered in natural products and\\npharmaceuticals, could be easily con-\\nstructed by this simple method in good\\nyields and excellent enantioselectivity.\\nThe pyridine products were applied in the\\ntotal synthesis of ((cid:2))-lycopladine A.\\n\\nAngew. Chem. Int. Ed. 2017, 56, 1 – 5\\n\\n(cid:2) 2017 Wiley-VCH Verlag GmbH & Co. KGaA, Weinheim\\n\\nThese are not the final page numbers! (cid:2)\\n\\nwww.angewandte.org\\n\\n5\\n\\n(cid:2)\\n\\n\\x0c']"
      ]
     },
     "execution_count": 4,
     "metadata": {},
     "output_type": "execute_result"
    }
   ],
   "source": [
    "texts = []\n",
    "texts.append(extract_text(files[0]))\n",
    "texts"
   ]
  },
  {
   "cell_type": "code",
   "execution_count": null,
   "metadata": {},
   "outputs": [],
   "source": [
    "# 将从pdf中提取的文字写入文件\n",
    "def write_to_file(text, file_name):\n",
    "    with open(file_name, 'w', encoding='utf-8') as f:\n",
    "        f.write(text)\n",
    "\n",
    "# 循环调用函数\n",
    "for i in range(0, len(texts)):\n",
    "    file_name = f'text{i}.txt'\n",
    "    write_to_file(texts[i], file_name)\n"
   ]
  },
  {
   "cell_type": "code",
   "execution_count": null,
   "metadata": {},
   "outputs": [],
   "source": [
    "# 分析处理其中的 有问题的地方\n",
    "# 哪些pdf转换有问题？改进转换方法，或者去除掉有问题的数据\n"
   ]
  },
  {
   "cell_type": "markdown",
   "metadata": {},
   "source": [
    "## 切分文献"
   ]
  },
  {
   "cell_type": "code",
   "execution_count": 21,
   "metadata": {},
   "outputs": [
    {
     "data": {
      "text/plain": [
       "(['Communications\\n\\nAngewandte\\n\\nChemie\\n\\nAsymmetric Catalysis\\n\\nInternational Edition: DOI: 10.1002/anie.201700433\\nGerman Edition:\\nDOI: 10.1002/ange.201700433\\n\\nEnantioselective Iridium-Catalyzed Allylic Substitution with\\n2-Methylpyridines\\nXi-Jia Liu and Shu-Li You*\\n\\nAbstract: An enantioselective iridium-catalyzed allylic sub-\\nstitution with a set of highly unstabilized nucleophiles gen-\\nerated in situ from 2-methylpyridines is described. Enantioen-\\nriched 2-substituted pyridines, which are frequently encoun-\\ntered in natural products and pharmaceuticals, could be easily\\nconstructed by this simple method in good yields and excellent\\nenantioselectivity. The synthetic utility of the pyridine products\\nis demonstrated through the synthesis of a key intermediate of\\na reported Na+/H+ exchanger inhibitor and the total synthesis\\nof ((cid:2))-lycopladine A.\\n\\nPyridines are among the most prevalent heterocyclic',\n",
       "  'Pyridines are among the most prevalent heterocyclic\\n\\nstructural moieties in biologically active natural products,\\npharmaceuticals, and agrochemicals.[1] For example, twelve\\nsmall molecules containing a pyridine motif were listed in the\\ntop 200 pharmaceutical products in 2012, including the top\\nentry, Nexium.[2] Therefore, diverse functionalization of\\npyridine derivatives could lead to wide applications in many\\nfields.[3] One aspect of our ongoing efforts to develop methods\\nto build complex and biologically active molecules is the\\napplication of iridium-catalyzed allylic substitution reactions\\nwith heteroaromatic compounds as nucleophiles.[4]\\n\\nIridium-catalyzed enantioselective allylic substitution\\nreactions have become a powerful tool for constructing\\ncarbon–heteroatom and carbon–carbon bonds, and they have\\nfound extensive application in the total synthesis of natural\\nproducts and the preparation of bioactive compounds.[5]\\nAlthough a wide range of nucleophiles can be employed in\\nthese reactions, unstabilized carbon-type nucleophiles have\\nbeen much less studied and have been mainly limited to\\nenolates, organoborons, and aryl- or alkylzinc bromides[6]\\nowing to challenges relating to reactivity and controlling the\\nregio- and enantioselectivity. The exploration of unstabilized\\nnucleophiles in iridium-catalyzed asymmetric allylic substitu-\\ntion is thus still of great importance.\\n\\nRecently,',\n",
       "  'Recently,\\n\\ntransition-metal-catalyzed allylic alkylation\\nreactions of unstabilized benzylic nucleophiles have attracted\\n\\n[*] X.-J. Liu, Prof. Dr. S.-L. You\\n\\nState Key Laboratory of Organometallic Chemistry\\nShanghai Institute of Organic Chemistry\\nChinese Academy of Sciences\\n345 Lingling Lu, Shanghai 200032 (China)\\nE-mail: slyou@sioc.ac.cn\\nHomepage: http://shuliyou.sioc.ac.cn/\\n\\nProf. Dr. S.-L. You\\nCollaborative Innovation Center of Chemical Science and\\nEngineering, Tianjin (China)\\n\\nSupporting information and the ORCID identification number(s) for\\nthe author(s) of this article can be found under:\\nhttp://dx.doi.org/10.1002/anie.201700433.',\n",
       "  'interest because of their applications in the synthesis of\\na broad diversity of complex molecules.[7] Pioneering works\\nfrom the groups of Trost[7a] and Walsh[7h] have led to\\nimpressive palladium-catalyzed processes for asymmetric\\nallylic alkylation with 2-methylpyridine derivatives (pKa\\n(cid:3) 34[8a]) and toluene derivatives (pKa (cid:3) 44[8b]), respectively.\\nIn these studies, elegant strategies have been developed that\\ninvolve the addition of activating agents to stabilize the\\nresulting anionic charge. To date, there are only a few\\nexamples of these reactions in a catalytic asymmetric version,\\nand the reaction scope is very limited. Inspired by these\\nstudies, we envisaged that the alkyl nucleophiles generated\\nin situ from 2-methylpyridines might be compatible with\\niridium-catalyzed asymmetric allylic substitution reactions.\\nUnder iridium catalysis, complementary selectivity and sub-\\nstrate scope would facilitate the utility of the methods in the\\nsynthesis of natural products and bioactive molecules\\n(Figure 1).[9] Herein, we describe the first iridium-catalyzed\\nasymmetric allylic substitution reaction with highly unstabi-\\nlized alkyl nucleophiles derived in situ from 2-methylpyri-\\ndines.\\n\\nFigure 1. Selected bioactive compounds and natural products that\\ncontain the circled structural motif.',\n",
       "  'We began our study by testing the reaction of tert-butyl\\ncinnamyl carbonate with the complex generated in situ from\\n2-methylpyridine and BF3·OEt2 with different\\nligands\\n(Table 1). It\\nis proposed that BF3·OEt2 coordinates to\\npyridine nitrogen to increase the acidity of the proton of the\\nmethyl group and stabilize the resulting carboanion. The\\nFeringa ligand and its variants (L1, L2, L3, and L4) afforded\\nthe desired product in varied yields and enantioselectivity. To\\nour delight, the Alexakis ligand L2 gave 3 a in 71 % yield and\\n95 % ee. The reactions with L5 or L6 only led to a trace\\namount of product. The reaction outcomes of ligands L7, L8,\\nand L9 were unsatisfactory, and only L7, which contains\\na methoxy group, afforded 3 a in 27 % yield and 84 % ee.\\nFurther optimization of the reaction conditions revealed that\\nLiHMDS is the optimal base, but multiple equivalents\\n\\nAngew. Chem. Int. Ed. 2017, 56, 1 – 5\\n\\n(cid:2) 2017 Wiley-VCH Verlag GmbH & Co. KGaA, Weinheim\\n\\nThese are not the final page numbers! (cid:2)\\n\\n1\\n\\n(cid:2)\\n\\n\\x0cCommunications\\n\\nAngewandte\\n\\nChemie\\n\\nTable 1: Optimization of the reaction conditions.[a]\\n\\nTable 2: Substrate scope with respect to the allyl carbonates.[a,b,c]\\n\\nEntry\\n\\n1\\n2\\n3\\n4\\n5\\n6\\n7\\n8\\n9\\n10[d]\\n11[e]\\n12[f ]\\n\\nL\\n\\nL1\\nL2\\nL3\\nL4\\nL5\\nL6\\nL7\\nL8\\nL9\\nL2\\nL2\\nL2\\n\\nYield [%][b]\\n\\nee [%][c]\\n\\n23\\n71\\n20\\n42\\ntrace\\ntrace\\n27\\ntrace\\ntrace\\n73\\n71\\n54\\n\\n84\\n95\\n80\\n(cid:2)77\\n–\\n–\\n84\\n–\\n–\\n97\\n97\\n97'],\n",
       " 19)"
      ]
     },
     "execution_count": 21,
     "metadata": {},
     "output_type": "execute_result"
    }
   ],
   "source": [
    "text_splitter = RecursiveCharacterTextSplitter(chunk_size=1500, chunk_overlap=100)\n",
    "splits = []\n",
    "for text in texts:\n",
    "    splits.extend(text_splitter.split_text(text))\n",
    "splits[:5], len(splits)"
   ]
  },
  {
   "cell_type": "markdown",
   "metadata": {},
   "source": [
    "## 将切分的文献保存进向量数据库"
   ]
  },
  {
   "cell_type": "code",
   "execution_count": 22,
   "metadata": {},
   "outputs": [],
   "source": [
    "# embedding = HuggingFaceEmbeddings(model_name=\"BAAI/bge-base-en-v1.5\")\n",
    "embedding = HuggingFaceEmbeddings(model_name=\"BAAI/bge-small-zh-v1.5\")\n",
    "\n",
    "# 保存到当前根目录的vector_db文件夹下\n",
    "kb_name = \"vector_test2\"\n",
    "persist_directory = os.path.join(os.getcwd(), kb_name)\n",
    "\n",
    "vectordb = Chroma.from_texts(\n",
    "    texts=splits,\n",
    "    embedding=embedding,\n",
    "    persist_directory=persist_directory,\n",
    ")\n",
    "vectordb.persist()"
   ]
  },
  {
   "cell_type": "markdown",
   "metadata": {},
   "source": [
    "## 构造关于这篇文献的相关问题"
   ]
  },
  {
   "cell_type": "code",
   "execution_count": 18,
   "metadata": {},
   "outputs": [],
   "source": [
    "query4 = '请回答关于此篇文献中有关于化学反应的优化相关的问题，说明清楚如催化剂/配体/添加剂/溶剂/温度/时间/空气等的实验条件，对反应产率或者选择性产生了哪些影响，并给出关于此化学反应的清晰明确的优化建议。'\n",
    "query7 = '请说明此处讨论的化学反应机理的推导过程，并且列举出化学反应的实验结果和实验结论。'"
   ]
  },
  {
   "cell_type": "code",
   "execution_count": 23,
   "metadata": {},
   "outputs": [
    {
     "data": {
      "text/plain": [
       "'已知PDF内容：\\nenantioselectivity. The synthetic utility of the pyridine products\\nis demonstrated through the synthesis of a key intermediate of\\na reported Na+/H+ exchanger inhibitor and the total synthesis\\nof ((cid:2))-lycopladine A.\\n根据已知信息回答问题：\\n文章中主要是围绕什么样的化学反应在进行讨论？请说明此处讨论的化学反应机理的推导过程，并且列举出化学反应的实验结果和实验结论。\\n所有的回答都根据已知信息的内容来回答，不要编造内容。用中文回答问题。'"
      ]
     },
     "execution_count": 23,
     "metadata": {},
     "output_type": "execute_result"
    }
   ],
   "source": [
    "question = \"文章中主要是围绕什么样的化学反应在进行讨论？\" + query7\n",
    "q_docs = vectordb.similarity_search(question, k=1)\n",
    "context = [doc.page_content for doc in q_docs]\n",
    "\n",
    "prompt = f\"已知PDF内容：\\n{'-'.join(context)}\\n根据已知信息回答问题：\\n{question}\\n所有的回答都根据已知信息的内容来回答，不要编造内容。用中文回答问题。\"\n",
    "prompt"
   ]
  },
  {
   "cell_type": "markdown",
   "metadata": {},
   "source": [
    "## 通过调用模型api接口获得模型输出"
   ]
  },
  {
   "cell_type": "code",
   "execution_count": null,
   "metadata": {},
   "outputs": [],
   "source": [
    "os.environ[\"OPENAI_API_KEY\"] = \"ab78b1a21a614ba1ade36ba88b172893\"\n"
   ]
  },
  {
   "cell_type": "code",
   "execution_count": 24,
   "metadata": {},
   "outputs": [
    {
     "name": "stdout",
     "output_type": "stream",
     "text": [
      "根据您提供的PDF内容，文章主要围绕着吡啶类化合物的合成以及其在合成其他化合物中的应用进行讨论。吡啶是一种含氮的六元杂环化合物，在有机合成中非常重要，因为它可以作为多种药物和生物活性分子的合成前体。\n",
      "\n",
      "化学反应机理的推导过程通常涉及以下几个步骤：\n",
      "1. 反应物和试剂的识别：首先需要确定参与反应的分子和可能的反应条件。\n",
      "2. 反应中间体的形成：根据已知的化学反应原理，推测可能形成的反应中间体，如自由基、离子或配合物等。\n",
      "3. 关键步骤的确定：分析反应中决定产率和选择性的关键步骤，这通常涉及到立体选择性或区域选择性的形成。\n",
      "4. 产物的生成：从反应中间体到最终产物的转化过程。\n",
      "\n",
      "由于您提供的内容有限，无法详细描述具体的反应机理。通常，吡啶的合成可以通过多种方法实现，包括多组分反应、环化反应等。在合成过程中，立体选择性是一个重要的考虑因素，因为它直接影响到产物的手性纯度。\n",
      "\n",
      "实验结果和实验结论通常包括：\n",
      "- 产物的产率和纯度：通过实验确定合成产物的收率和纯度。\n",
      "- 立体选择性：如果反应涉及到手性中心，需要评估产物的光学纯度或对映体过量（ee值）。\n",
      "- 应用实例：展示合成出的吡啶化合物如何用于合成其他生物活性分子或药物。\n",
      "\n",
      "在您提供的PDF内容中，提到了合成出的吡啶化合物被用于合成一种Na+/H+交换抑制剂的关键中间体，以及完成了((cid:2))-lycopladine A的全合成。这些应用实例展示了吡啶化合物的合成在药物化学和天然产物合成中的重要性。\n",
      "\n",
      "由于缺乏具体的实验数据和详细的反应条件，无法提供更具体的实验结果和结论。如果您能提供更多的信息，我可以尝试给出更详细的答案。\n"
     ]
    }
   ],
   "source": [
    "client = OpenAI(\n",
    "    api_key='ab78b1a21a614ba1ade36ba88b172893',\n",
    "    base_url='https://api.lingyiwanwu.com/v1'\n",
    ")\n",
    "completion = client.chat.completions.create(\n",
    "    model=\"yi-large\",\n",
    "    messages=[{\"role\": \"user\", \"content\": prompt}]\n",
    ")\n",
    "\n",
    "answer = completion.choices[0].message.content\n",
    "print(completion.choices[0].message.content)"
   ]
  },
  {
   "cell_type": "markdown",
   "metadata": {},
   "source": [
    "## 先把文字保存为txt文件"
   ]
  },
  {
   "cell_type": "code",
   "execution_count": null,
   "metadata": {},
   "outputs": [],
   "source": [
    "# 将 answer 保存run_answer.txt\n",
    "with open('run_answer.txt', 'w') as f:\n",
    "    f.write(answer)"
   ]
  },
  {
   "cell_type": "markdown",
   "metadata": {},
   "source": [
    "## 再将所有的txt文件一起保存进 向量数据库中"
   ]
  },
  {
   "cell_type": "code",
   "execution_count": null,
   "metadata": {},
   "outputs": [],
   "source": [
    "# 将 run_answer.txt 中的内容读取出来 并保存到变量中\n",
    "with open('run_answer.txt', 'r') as f:\n",
    "    content = f.read()"
   ]
  },
  {
   "cell_type": "markdown",
   "metadata": {},
   "source": [
    "## 将模型回答保存进向量数据库中作为高质量语料"
   ]
  },
  {
   "cell_type": "code",
   "execution_count": 25,
   "metadata": {},
   "outputs": [],
   "source": [
    "# 创建一个新的向量数据库，存储得到的回答\n",
    "# 保存到当前根目录的vector_answers文件夹下\n",
    "kb_name = \"vector_answers\"\n",
    "persist_directory = os.path.join(os.getcwd(), kb_name)\n",
    "\n",
    "answers = [answer]\n",
    "\n",
    "vector_question4 = Chroma.from_texts(\n",
    "    texts=answers,\n",
    "    embedding=embedding,\n",
    "    persist_directory=persist_directory,\n",
    ")\n",
    "vectordb.persist()"
   ]
  },
  {
   "cell_type": "markdown",
   "metadata": {},
   "source": [
    "至此，通过对某一篇文献提问，获取得到的答案作为语料存入向量库中，以便回答相关问题。"
   ]
  },
  {
   "cell_type": "markdown",
   "metadata": {},
   "source": [
    "接下来，需要做的\n",
    "1. 调整文档片段的召回方式，使得召回的文档片段数量尽可能多，同时保证召回的文档片段的相似度尽可能高。以便LLM能够更充分地理解文档片段，并且回答相关问题。\n",
    "2. 调整代码，能够通过循环的方式回答一篇文章的所有问题。\n",
    "3. 调整代码，能够通过循环的方式回答完所有的文章，并且将结果保存到文件中。\n",
    "4. 将保存的txt文件中的答案读取出来，存入向量数据库中。"
   ]
  }
 ],
 "metadata": {
  "kernelspec": {
   "display_name": "chemical_rag",
   "language": "python",
   "name": "python3"
  },
  "language_info": {
   "codemirror_mode": {
    "name": "ipython",
    "version": 3
   },
   "file_extension": ".py",
   "mimetype": "text/x-python",
   "name": "python",
   "nbconvert_exporter": "python",
   "pygments_lexer": "ipython3",
   "version": "3.10.14"
  }
 },
 "nbformat": 4,
 "nbformat_minor": 2
}
