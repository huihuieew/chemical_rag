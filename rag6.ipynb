{
 "cells": [
  {
   "cell_type": "markdown",
   "metadata": {},
   "source": [
    "# RAG应用 构建高质量化学向量库"
   ]
  },
  {
   "cell_type": "markdown",
   "metadata": {},
   "source": [
    "## step1 导包并加载文档"
   ]
  },
  {
   "cell_type": "code",
   "execution_count": 4,
   "metadata": {},
   "outputs": [],
   "source": [
    "import os"
   ]
  },
  {
   "cell_type": "code",
   "execution_count": 5,
   "metadata": {},
   "outputs": [
    {
     "data": {
      "text/plain": [
       "['./papers\\\\Enantioselective Iridium-Catalyzed Allylic Substitution with 2-Methylpyridines.pdf',\n",
       " './papers\\\\Iridium-Catalyzed Asymmetric Allylic Amination Reaction with N-Aryl Phosphoramidite Ligands.pdf']"
      ]
     },
     "execution_count": 5,
     "metadata": {},
     "output_type": "execute_result"
    }
   ],
   "source": [
    "\n",
    "root_dir = \"./papers\"\n",
    "\n",
    "def extract_file_dirs(directory):\n",
    "    file_paths = []\n",
    "    for root, dirs, files in os.walk(directory):\n",
    "        for file in files:\n",
    "            if file.endswith(\".pdf\"):\n",
    "                fp = os.path.join(root, file)\n",
    "                file_paths.append(fp)\n",
    "    return file_paths\n",
    "\n",
    "files = extract_file_dirs(root_dir)\n",
    "files"
   ]
  },
  {
   "cell_type": "code",
   "execution_count": 7,
   "metadata": {},
   "outputs": [],
   "source": [
    "from pdfminer.high_level import extract_text"
   ]
  },
  {
   "cell_type": "code",
   "execution_count": 8,
   "metadata": {},
   "outputs": [
    {
     "data": {
      "text/plain": [
       "['Communications\\n\\nAngewandte\\n\\nChemie\\n\\nAsymmetric Catalysis\\n\\nInternational Edition: DOI: 10.1002/anie.201700433\\nGerman Edition:\\nDOI: 10.1002/ange.201700433\\n\\nEnantioselective Iridium-Catalyzed Allylic Substitution with\\n2-Methylpyridines\\nXi-Jia Liu and Shu-Li You*\\n\\nAbstract: An enantioselective iridium-catalyzed allylic sub-\\nstitution with a set of highly unstabilized nucleophiles gen-\\nerated in situ from 2-methylpyridines is described. Enantioen-\\nriched 2-substituted pyridines, which are frequently encoun-\\ntered in natural products and pharmaceuticals, could be easily\\nconstructed by this simple method in good yields and excellent\\nenantioselectivity. The synthetic utility of the pyridine products\\nis demonstrated through the synthesis of a key intermediate of\\na reported Na+/H+ exchanger inhibitor and the total synthesis\\nof ((cid:2))-lycopladine A.\\n\\nPyridines are among the most prevalent heterocyclic\\n\\nstructural moieties in biologically active natural products,\\npharmaceuticals, and agrochemicals.[1] For example, twelve\\nsmall molecules containing a pyridine motif were listed in the\\ntop 200 pharmaceutical products in 2012, including the top\\nentry, Nexium.[2] Therefore, diverse functionalization of\\npyridine derivatives could lead to wide applications in many\\nfields.[3] One aspect of our ongoing efforts to develop methods\\nto build complex and biologically active molecules is the\\napplication of iridium-catalyzed allylic substitution reactions\\nwith heteroaromatic compounds as nucleophiles.[4]\\n\\nIridium-catalyzed enantioselective allylic substitution\\nreactions have become a powerful tool for constructing\\ncarbon–heteroatom and carbon–carbon bonds, and they have\\nfound extensive application in the total synthesis of natural\\nproducts and the preparation of bioactive compounds.[5]\\nAlthough a wide range of nucleophiles can be employed in\\nthese reactions, unstabilized carbon-type nucleophiles have\\nbeen much less studied and have been mainly limited to\\nenolates, organoborons, and aryl- or alkylzinc bromides[6]\\nowing to challenges relating to reactivity and controlling the\\nregio- and enantioselectivity. The exploration of unstabilized\\nnucleophiles in iridium-catalyzed asymmetric allylic substitu-\\ntion is thus still of great importance.\\n\\nRecently,\\n\\ntransition-metal-catalyzed allylic alkylation\\nreactions of unstabilized benzylic nucleophiles have attracted\\n\\n[*] X.-J. Liu, Prof. Dr. S.-L. You\\n\\nState Key Laboratory of Organometallic Chemistry\\nShanghai Institute of Organic Chemistry\\nChinese Academy of Sciences\\n345 Lingling Lu, Shanghai 200032 (China)\\nE-mail: slyou@sioc.ac.cn\\nHomepage: http://shuliyou.sioc.ac.cn/\\n\\nProf. Dr. S.-L. You\\nCollaborative Innovation Center of Chemical Science and\\nEngineering, Tianjin (China)\\n\\nSupporting information and the ORCID identification number(s) for\\nthe author(s) of this article can be found under:\\nhttp://dx.doi.org/10.1002/anie.201700433.\\n\\ninterest because of their applications in the synthesis of\\na broad diversity of complex molecules.[7] Pioneering works\\nfrom the groups of Trost[7a] and Walsh[7h] have led to\\nimpressive palladium-catalyzed processes for asymmetric\\nallylic alkylation with 2-methylpyridine derivatives (pKa\\n(cid:3) 34[8a]) and toluene derivatives (pKa (cid:3) 44[8b]), respectively.\\nIn these studies, elegant strategies have been developed that\\ninvolve the addition of activating agents to stabilize the\\nresulting anionic charge. To date, there are only a few\\nexamples of these reactions in a catalytic asymmetric version,\\nand the reaction scope is very limited. Inspired by these\\nstudies, we envisaged that the alkyl nucleophiles generated\\nin situ from 2-methylpyridines might be compatible with\\niridium-catalyzed asymmetric allylic substitution reactions.\\nUnder iridium catalysis, complementary selectivity and sub-\\nstrate scope would facilitate the utility of the methods in the\\nsynthesis of natural products and bioactive molecules\\n(Figure 1).[9] Herein, we describe the first iridium-catalyzed\\nasymmetric allylic substitution reaction with highly unstabi-\\nlized alkyl nucleophiles derived in situ from 2-methylpyri-\\ndines.\\n\\nFigure 1. Selected bioactive compounds and natural products that\\ncontain the circled structural motif.\\n\\nWe began our study by testing the reaction of tert-butyl\\ncinnamyl carbonate with the complex generated in situ from\\n2-methylpyridine and BF3·OEt2 with different\\nligands\\n(Table 1). It\\nis proposed that BF3·OEt2 coordinates to\\npyridine nitrogen to increase the acidity of the proton of the\\nmethyl group and stabilize the resulting carboanion. The\\nFeringa ligand and its variants (L1, L2, L3, and L4) afforded\\nthe desired product in varied yields and enantioselectivity. To\\nour delight, the Alexakis ligand L2 gave 3 a in 71 % yield and\\n95 % ee. The reactions with L5 or L6 only led to a trace\\namount of product. The reaction outcomes of ligands L7, L8,\\nand L9 were unsatisfactory, and only L7, which contains\\na methoxy group, afforded 3 a in 27 % yield and 84 % ee.\\nFurther optimization of the reaction conditions revealed that\\nLiHMDS is the optimal base, but multiple equivalents\\n\\nAngew. Chem. Int. Ed. 2017, 56, 1 – 5\\n\\n(cid:2) 2017 Wiley-VCH Verlag GmbH & Co. KGaA, Weinheim\\n\\nThese are not the final page numbers! (cid:2)\\n\\n1\\n\\n(cid:2)\\n\\n\\x0cCommunications\\n\\nAngewandte\\n\\nChemie\\n\\nTable 1: Optimization of the reaction conditions.[a]\\n\\nTable 2: Substrate scope with respect to the allyl carbonates.[a,b,c]\\n\\nEntry\\n\\n1\\n2\\n3\\n4\\n5\\n6\\n7\\n8\\n9\\n10[d]\\n11[e]\\n12[f ]\\n\\nL\\n\\nL1\\nL2\\nL3\\nL4\\nL5\\nL6\\nL7\\nL8\\nL9\\nL2\\nL2\\nL2\\n\\nYield [%][b]\\n\\nee [%][c]\\n\\n23\\n71\\n20\\n42\\ntrace\\ntrace\\n27\\ntrace\\ntrace\\n73\\n71\\n54\\n\\n84\\n95\\n80\\n(cid:2)77\\n–\\n–\\n84\\n–\\n–\\n97\\n97\\n97\\n\\n[a] Reaction conditions: [Ir(cod)Cl]2 (4 mol %), L (8 mol %), 1 a\\n(0.3 mmol), 2 a (0.2 mmol), BF3·Et2O (0.26 mmol) and LiHMDS (0.7 mL,\\n1 m in THF) in THF (2 mL) at 30 8C. THF = tetrahydrofuran. Catalyst was\\nprepared through nPrNH2 activation.[11] [b] Yield of isolated product.\\n[c] Determined by HPLC analysis. [d] K1 (8 mol %) as catalyst. [e] K1\\n(6 mol %) as catalyst. [f ] K1 (4 mol %) as catalyst.\\n\\n(3.5 equiv) were required for full conversion. Next, solvents\\nwere surveyed and THF was found to be the optimal one (see\\nthe Supporting Information for details). To simplify the\\noperational procedure, the iridium complex K1[10] (8 mol %),\\nprepared from the optimal ligand L2, was used directly. The\\nreaction gave a similar yield with an increased enantioselec-\\ntivity (97 % ee). To our delight, it was found that 71 % yield\\nwas obtained in the presence of 6 mol % catalyst without any\\neffect on enantioselectivity. However, the reaction did not\\nproceed to full conversion when 4 mol % of K1 was used.\\nBased on these results, the optimal reaction conditions were\\nestablished as described in Table 1, entry 11.\\n\\nWith the optimal reaction conditions in hand, we under-\\ntook studies on the scope and limitations of the allylic\\nalkylation reaction. As depicted in Table 2, with 1 a as the\\nnucleophile, allyl carbonates containing 4-MeO, 4-Me, 4-F, 3-\\nMeO, and 3-Me substituents on the phenyl ring were\\nexamined and were found to be well tolerated, delivering\\nthe corresponding products efficiently (3 b, 3 c, 3 d, 3 g, 3 h, 71–\\n90 % yields, 96–98 % ee). Although substrates bearing 4-Cl or\\n4-Br were less reactive, reactions in the presence of 8 mol %\\nof the catalyst delivered the products in moderate yields with\\nexcellent enantioselectivity (3 e, 3 f, 76–78 % yields, 97 % ee).\\n\\n[a] Reaction conditions: K1 (6 mol %), 1 (0.3 mmol), 2 a (0.2 mmol),\\nBF3·Et2O (0.26 mmol) and LiHMDS (0.7 mL, 1 m in THF) in THF (2 mL)\\nat 30 8C. [b] Yield of isolated product. [c] Determined by HPLC analysis.\\n[d] K1 (8 mol %) as catalyst.\\n\\nExcellent enantioselectivity was obtained for substrates\\nbearing 3-Br or 3-Cl substituents (3 i, 3 j, 52–60 % yields,\\nthe reaction with tert-butyl crotyl\\n96 % ee). However,\\ncarbonate occurred to give only trace amounts of product\\nwith a low branch-to-linear ratio. These results suggest that\\nthe reaction with the unstabilized carbon nucleophiles is more\\nsensitive to the electronic and steric properties of the allyl\\ncarbonates compared to reactions with soft carbon nucleo-\\nphiles. To our delight, heteroaryl allylic carbonates, such as\\nthose derived from 2-thienyl and 3-indolyl, were compatible\\nunder the optimized conditions (3 l, 3 m, 69–71 % yields, 96–\\n98 % ee).\\n\\nSubsequently, we set out to investigate the scope with\\nrespect to the nucleophiles. A variety of 2-methylpyridines\\nwith diverse substituents were examined (Table 3). Alkyl or\\nphenyl substituents at the 3-, 4-, or 5-positions of pyridine\\nwere tolerated, delivering the desired products smoothly (4 a–\\nc, 4 h–j, 70–94 % yields, 95–98 % ee). It is worth noting that\\nvinyl and alkynyl groups were also well tolerated (4 f, 4 g, 65–\\n87 % yields, 96–97 % ee). Gratifyingly, the allylation reactions\\nof 2-methyl pyridines bearing a bromide group at the 3- or 5-\\nposition occurred smoothly to give products in excellent\\nenantioselectivity (4 d, 4 e, 97–98 % ee).\\n\\nTo demonstrate the utility of the current method, it was\\napplied in the synthesis of biologically interesting compounds\\nand natural products. Product 4 g was converted into the\\ncorresponding olefin compound through ring-closing meta-\\nthesis (RCM). Hydroboration and oxidation yielded the\\ncorresponding alcohol, and oxidation with MnO2\\nthen\\ngenerated the key intermediate 6 with high enantiopurity.\\nThe latter compound can be converted into a previously\\ndescribed Na+/H+ exchanger inhibitor by following the\\nreported procedure (Scheme 1).[9a]\\n\\n2\\n\\nwww.angewandte.org\\n\\n(cid:2) 2017 Wiley-VCH Verlag GmbH & Co. KGaA, Weinheim\\n\\nAngew. Chem. Int. Ed. 2017, 56, 1 – 5\\n\\n(cid:2)(cid:2)These are not the final page numbers!\\n\\n\\x0cCommunications\\n\\nAngewandte\\n\\nChemie\\n\\nTable 3: Substrate scope with respect to 2-methylpyridines.[a,b,c]\\n\\n[a] Reaction conditions: K1 (6 mol %), 1 (0.3 mmol), 2 a (0.2 mmol),\\nBF3·Et2O (0.26 mmol) and LiHMDS (0.7 mL, 1 m in THF) in THF (2 mL)\\nat 30 8C. [b] Yield of isolated product. [c] Determined by HPLC analysis.\\n[d] K1 (8 mol %) as catalyst.\\n\\nScheme 1. Preparation of a key intermediate of an Na+/H+ exchanger\\ninhibitor.\\n\\nNext, an asymmetric total synthesis of ((cid:2))-lycopladine A\\nwas carried out. Lycopladine A is a tricyclic alkaloid featuring\\na pyridyl-fused hydrindanone core and three stereocenters,\\nincluding an all-carbon quaternary center. It shows modest\\nbut selective cytotoxicity toward murine lymphoma L1210\\ncells (IC50 = 7 mg mL(cid:2)1).[7c, 9c] The unusual structure and inter-\\nesting biological activity of lycopladine A have aroused the\\ninterest of several synthetic groups, which has led to\\nsuccessful total syntheses by Toste, Martin, Hiroya, Yang\\nand Meng.[12] Our synthesis of lycopladine A by the current\\nmethod is summarized in Scheme 2. Asymmetric allylic\\nalkylation of 1 d with 2 n generated 7 in 67 % yield and 90 %\\nee. Hydroboration of the terminal alkene in 7 provided\\nprimary alcohol 8 in 78 % yield, and 9 a was then obtained\\nthrough a palladium-catalyzed Heck reaction. Cleavage of the\\ndouble bond in 9 a by ozonolysis and subsequent allylic\\nalkylation under palladium catalysis afforded compound 10 in\\n79 % yield. Compound 10 was subjected to pyridinium\\nchlorochromate (PCC) oxidation, followed by treatment\\nwith NaOH (1 %, aq.) to yield tricyclic intermediate 11\\n(45 % yield over two steps). Installation of the methyl group\\nat the b-position of the carbonyl through treatment with\\n[Me2Cu(CN)Li2]\\nled to 12 in 80 % yield with perfect\\nstereoselectivity. Finally, the terminal alkene was transformed\\n\\nScheme 2. Total synthesis of ((cid:2))-lycopladine A. LiHMDS = lithium hex-\\namethyldisilazide, 9-BBN = 9-borabicyclo[3.3.1]nonane, dppb = 1,4-bis-\\n(diphenylphosphino)butane.\\n\\ninto an alcohol to accomplish the total synthesis of lycopla-\\ndine A. The absolute configuration of the synthetic sample of\\nlycopladine A could be assigned through comparison of the\\nsign of the optical rotation with the reported value.[9c, 12a] It is\\nnoteworthy that this route is the first total synthesis of ((cid:2))-\\nlycopladine A through a catalytic asymmetric method.\\n\\nIn summary, we have successfully developed the first\\niridium-catalyzed asymmetric allylic alkylation of 2-methyl-\\npyridine derivatives with high enantioselectivity. With an\\niridium-catalyst derived from a commercially available iri-\\ndium precursor and the Alexakis ligand, the allyl alkylation\\nreaction can tolerate a broad range of allyl carbonates and\\nnucleophiles derived from 2-methylpyridines. The synthetic\\nthe pyridine products has been demonstrated\\nutility of\\nthrough the synthesis of a key intermediate of an Na+/H+\\nexchanger inhibitor with high enantiopurity and the total\\nsynthesis of ((cid:2))-lycopladine A. Further extension of the\\nscope to benzylic nucleophiles and the development of more\\nefficient catalytic systems are currently underway in our\\nlaboratory.\\n\\nAcknowledgements\\n\\nWe thank the National Key Research and Development\\nProgram of China (2016YFA0202900), National Basic\\nResearch Program of China (973 Program 2015CB856600),\\nthe NSFC (21332009, 21361140373, 21421091), and the\\nStrategic Priority Research Program of the Chinese Academy\\nof Sciences (XDB20000000) for generous financial support.\\n\\nConflict of interest\\n\\nThe authors declare no conflict of interest.\\n\\nAngew. Chem. Int. Ed. 2017, 56, 1 – 5\\n\\n(cid:2) 2017 Wiley-VCH Verlag GmbH & Co. KGaA, Weinheim\\n\\nThese are not the final page numbers! (cid:2)\\n\\nwww.angewandte.org\\n\\n3\\n\\n(cid:2)\\n\\n\\x0cCommunications\\n\\nAngewandte\\n\\nChemie\\n\\nKeywords: asymmetric catalysis · homogeneous catalysis ·\\niridium · pyridines · unstabilized nucleophiles\\n\\n[1] a) P. Kiuru, J. Yli-Kauhaluoma in Heterocycles in Natural\\nProduct Synthesis (Eds.: K. C. Majumdar, S. K. Chattopadhyay),\\nWiley-VCH, Weinheim, 2011, p. 267; b) J.-X. Qiao in Hetero-\\ncyclic Chemistry in Drug Discovery (Ed.: J.-J. Li), Wiley,\\nHoboken, 2013, p. 398; c) E. Vitaku, D. T. Smith, J. T. Njardar-\\nson, J. Med. Chem. 2014, 57, 10257.\\n\\n[2] http://www.pharmacytimes.com/publications/issue/2013/\\n\\njuly2013/top-200-drugs-of-2012.\\n\\n[3] a) M. D. Hill, Chem. Eur. J. 2010, 16, 12052; b) Y. Nakao,\\nSynthesis 2011, 3209; c) J. A. Bull, J. J. Mousseau, G. Pelletier,\\nA. B. Charette, Chem. Rev. 2012, 112, 2642; d) D. Best, H. W.\\nLam, J. Org. Chem. 2014, 79, 831.\\n\\n[4] For a review: a) C.-X. Zhuo, C. Zheng, S.-L. You, Acc. Chem.\\nRes. 2014, 47, 2558; for selected recent examples: b) X. Zhang, L.\\nHan, S.-L. You, Chem. Sci. 2014, 5, 1059; c) Z.-P. Yang, Q.-F. Wu,\\nS.-L. You, Angew. Chem. Int. Ed. 2014, 53, 6986; Angew. Chem.\\n2014, 126, 7106; d) C.-X. Zhuo, Q. Cheng, W.-B. Liu, Q. Zhao, S.-\\nL. You, Angew. Chem. Int. Ed. 2015, 54, 8475; Angew. Chem.\\n2015, 127, 8595; e) X. Zhang, W.-B. Liu, H.-F. Tu, S.-L. You,\\nChem. Sci. 2015, 6, 4525; f) C.-X. Zhuo, Y. Zhou, Q. Cheng, L.\\nHuang, S.-L. You, Angew. Chem. Int. Ed. 2015, 54, 14146;\\nAngew. Chem. 2015, 127, 14352; g) Z.-P. Yang, Q.-F. Wu, W.\\nShao, S.-L. You, J. Am. Chem. Soc. 2015, 137, 15899; h) L.\\nHuang, L.-X. Dai, S.-L. You, J. Am. Chem. Soc. 2016, 138, 5793.\\n[5] Selected reviews: a) G. Helmchen, A. Dahnz, P. D(cid:2)bon, M.\\nSchelwies, R. Weihofen, Chem. Commun. 2007, 675; b) G.\\nHelmchen in Iridium Complexes in Organic Synthesis (Eds.:\\nL. A. Oro, C. Claver), Wiley-VCH, Weinheim, 2009, p. 211;\\nc) J. F. Hartwig, L. M. Stanley, Acc. Chem. Res. 2010, 43, 1461;\\nd) J. F. Hartwig, M. J. Pouy, Top. Organomet. Chem. 2011, 34,\\n169; e) W.-B. Liu, J.-B. Xia, S.-L. You, Top. Organomet. Chem.\\n2012, 38, 155; f) P. Tosatti, A. Nelson, S. P. Marsden, Org.\\nBiomol. Chem. 2012, 10, 3147; g) W. Liu, X. Zhao, Synthesis\\n2013, 2051; for the first racemic example: h) R. Takeuchi, M.\\nKashio, Angew. Chem. Int. Ed. Engl. 1997, 36, 263; Angew.\\nChem. 1997, 109, 268; for the first asymmetric example: i) J. P.\\nJanssen, G. Helmchen, Tetrahedron Lett. 1997, 38, 8025; for\\nselected recent examples:\\nj) M. A. Schafroth, D. Sarlah, S.\\nKrautwald, E. M. Carreira, J. Am. Chem. Soc. 2012, 134, 20276;\\nk) S. T. Madrahimov, J. F. Hartwig, J. Am. Chem. Soc. 2012, 134,\\n8136; l) W.-B. Liu, C. M. Reeves, B. M. Stoltz, J. Am. Chem. Soc.\\n2013, 135, 17298; m) W.-B. Liu, C. M. Reeves, S. C. Virgil, B. M.\\nStoltz, J. Am. Chem. Soc. 2013, 135, 10626; n) W. Chen, J. F.\\nHartwig, J. Am. Chem. Soc. 2014, 136, 377; o) D. Zhao, M.\\nFaÇan(cid:3)s-Mastral, M.-C. Chang, E. Otten, B. L. Feringa, Chem.\\nSci. 2014, 5, 4216; p) J. Qu, L. Roßberg, G. Helmchen, J. Am.\\nChem. Soc. 2014, 136, 1272; q) R. L. Grange, E. A. Clizbe, E. J.\\nCounsell, P. A. Evans, Chem. Sci. 2015, 6, 777; r) S. Breitler,\\nE. M. Carreira, J. Am. Chem. Soc. 2015, 137, 5296; s) X. Liang,\\nS.-Z. Jiang, K. Wei, Y.-R. Yang, J. Am. Chem. Soc. 2016, 138,\\n2560; t) S.-Z. Jiang, X.-Y. Zeng, X. Liang, T. Lei, K. Wei, Y.-R.\\nYang, Angew. Chem. Int. Ed. 2016, 55, 4044; Angew. Chem. 2016,\\n128, 4112; u) W.-B. Liu, N. Okamoto, E. J. Alexy, A. Y. Hong, K.\\nTran, B. M. Stoltz, J. Am. Chem. Soc. 2016, 138, 5234; v) X. Hou,\\nR. He, X. Zhang, W. Zhang, J. Am. Chem. Soc. 2016, 138, 11093;\\nw) J. Liu, C.-G. Cao, H.-B. Sun, X. Zhang, D. Niu, J. Am. Chem.\\nSoc. 2016, 138, 13103.\\n\\n2007, 9, 3393; c) D. Polet, X. Rathgeb, C. A. Falciola, J.-B.\\nLanglois, S. E. Hajjaji, A. Alexakis, Chem. Eur. J. 2009, 15, 1205;\\nd) W. Chen, J. F. Hartwig, J. Am. Chem. Soc. 2012, 134, 15249;\\ne) J. Y. Hamilton, D. Sarlah, E. M. Carreira, J. Am. Chem. Soc.\\n2013, 135, 994; f) J. Y. Hamilton, D. Sarlah, E. M. Carreira,\\nAngew. Chem. Int. Ed. 2013, 52, 7532; Angew. Chem. 2013, 125,\\n7680; g) W. Chen, M. Chen, J. F. Hartwig, J. Am. Chem. Soc.\\n2014, 136, 15825; h) M. Chen, J. F. Hartwig, Angew. Chem. Int.\\nEd. 2014, 53, 8691; Angew. Chem. 2014, 126, 8835; i) M. Chen,\\nJ. F. Hartwig, Angew. Chem. Int. Ed. 2014, 53, 12172; Angew.\\nChem. 2014, 126, 12368; j) M. Chen, J. F. Hartwig, J. Am. Chem.\\nSoc. 2015, 137, 13972; k) J. Y. Hamilton, D. Sarlah, E. M.\\nCarreira, Angew. Chem. Int. Ed. 2015, 54, 7644; Angew. Chem.\\n2015, 127, 7754; l) M. Zhan, R.-Z. Li, Z.-D. Mou, C.-G. Cao, J.\\nLiu, Y.-W. Chen, D. Niu, ACS Catal. 2016, 6, 3381; m) X. Jiang,\\nW. Chen, J. F. Hartwig, Angew. Chem. Int. Ed. 2016, 55, 5819;\\nAngew. Chem. 2016, 128, 5913.\\n\\n[7] a) B. M. Trost, D. A. Thaisrivongs, J. Am. Chem. Soc. 2008, 130,\\n14092; b) B. M. Trost, D. A. Thaisrivongs, J. Am. Chem. Soc.\\n2009, 131, 12056; c) B. M. Trost, D. A. Thaisrivongs, J. Hartwig, J.\\nAm. Chem. Soc. 2011, 133, 12439; d) J. Zhang, C. Stanciu, B.\\nWang, M. M. Hussain, C.-S. Da, P. J. Carroll, S. D. Dreher, P. J.\\nWalsh, J. Am. Chem. Soc. 2011, 133, 20552; e) S.-C. Sha, J.\\nZhang, P. J. Carroll, P. J. Walsh, J. Am. Chem. Soc. 2013, 135,\\n17602; f) Q. Yuan, K. Yao, D. Liu, W. Zhang, Chem. Commun.\\n2015, 51, 11834; g) S.-C. Sha, H. Jiang, J. Mao, A. Bellomo, S. A.\\nJeong, P. J. Walsh, Angew. Chem. Int. Ed. 2016, 55, 1070; Angew.\\nChem. 2016, 128, 1082; h) J. Mao, J. Zhang, H. Jiang, A. Bellomo,\\nM. Zhang, Z. Gao, S. D. Dreher, P. J. Walsh, Angew. Chem. Int.\\nEd. 2016, 55, 2526; Angew. Chem. 2016, 128, 2572.\\n\\n[8] a) P. M. Dewick, Essentials of Organic Chemistry: For Students\\nof Pharmacy, Medicinal Chemistry and Biological Chemistry,\\nWiley, Chichester, 2006; b) F. G. Bordwell, Acc. Chem. Res.\\n1988, 21, 456.\\n\\n[9] a) S. Fukumoto, E. Imamiya, K. J. Kusumoto, S. Fujiwara, T.\\nWatanabe, M. Shiraishi, J. Med. Chem. 2002, 45, 3009; b) X. Ma,\\nD. R. Gang, Nat. Prod. Rep. 2004, 21, 752; c) K. Ishiuchi, T.\\nKubota, H. Morita, J. Kobayashi, Tetrahedron Lett. 2006, 47,\\n3287; d) T. Shigeyama, K. Katakawa, N. Kogure, M. Kitajima, H.\\nTakayama, Org. Lett. 2007, 9, 4069; e) K. Katakawa, N. Kogure,\\nM. Kitajima, H. Takayama, Helv. Chim. Acta 2009, 92, 445; f) Y.\\nHirasawa, J. Kobayashi, H. Morita, Heterocycles 2009, 77, 679;\\ng) M. Kitajima, H. Takayama, Top. Curr. Chem. 2012, 309, 1;\\nh) F. Liu, Y.-C. Liu, W.-W. Jiang, J. He, X.-D. Wu, L.-Y. Peng, J.\\nSu, X. Cheng, Q.-S. Zhao, Nat. Prod. Bioprospect. 2014, 4, 221.\\n[10] a) S. T. Madrahimov, D. Markovic, J. F. Hartwig, J. Am. Chem.\\nSoc. 2009, 131, 7228; b) S. Spiess, J. A. Raskatov, C. Gnamm, K.\\nBrçdner, G. Helmchen, Chem. Eur. J. 2009, 15, 11087; c) J. A.\\nRaskatov, S. Spiess, C. Gnamm, K. Brçdner, F. Rominger, G.\\nHelmchen, Chem. Eur. J. 2010, 16, 6601; d) J. A. Raskatov, M.\\nJ(cid:4)kel, B. F. Straub, F. Rominger, G. Helmchen, Chem. Eur. J.\\n2012, 18, 14314.\\n\\n[11] C. Shu, A. Leitner, J. F. Hartwig, Angew. Chem. Int. Ed. 2004, 43,\\n\\n4797; Angew. Chem. 2004, 116, 4901.\\n\\n[12] a) S. T. Staben, J. J. Kennedy-Smith, D. Huang, B. K. Corkey,\\nR. L. LaLonde, F. D. Toste, Angew. Chem. Int. Ed. 2006, 45,\\n5991; Angew. Chem. 2006, 118, 6137; b) J. E. DeLorbe, M. D.\\nLotz, S. F. Martin, Org. Lett. 2010, 12, 1576; c) K. Hiroya, Y.\\nSuwa, Y. Ichihashi, K. Inamoto, T. Doi, J. Org. Chem. 2011, 76,\\n4522; d) T. Xu, X.-L. Luo, Y.-R. Yang, Tetrahedron Lett. 2013,\\n54, 2858; e) L. Meng, J. Org. Chem. 2016, 81, 7784.\\n\\n[6] a) T. Graening, J. F. Hartwig, J. Am. Chem. Soc. 2005, 127, 17192;\\nb) A. Alexakis, S. E. Hajjaji, D. Polet, X. Rathgeb, Org. Lett.\\n\\nManuscript received: January 13, 2017\\nFinal Article published: && &&, &&&&\\n\\n4\\n\\nwww.angewandte.org\\n\\n(cid:2) 2017 Wiley-VCH Verlag GmbH & Co. KGaA, Weinheim\\n\\nAngew. Chem. Int. Ed. 2017, 56, 1 – 5\\n\\n(cid:2)(cid:2)These are not the final page numbers!\\n\\n\\x0cCommunications\\n\\nAsymmetric Catalysis\\n\\nX.-J. Liu, S.-L. You*\\n\\n&&&&—&&&&\\n\\nEnantioselective Iridium-Catalyzed Allylic\\nSubstitution with 2-Methylpyridines\\n\\nCommunications\\n\\nAngewandte\\n\\nChemie\\n\\nAn enantioselective iridium-catalyzed\\nallylic substitution with a set of highly\\nunstabilized nucleophiles generated\\nin situ from 2-methylpyridines was\\ndeveloped. Enantioenriched 2-substi-\\ntuted pyridines, which are frequently\\n\\nencountered in natural products and\\npharmaceuticals, could be easily con-\\nstructed by this simple method in good\\nyields and excellent enantioselectivity.\\nThe pyridine products were applied in the\\ntotal synthesis of ((cid:2))-lycopladine A.\\n\\nAngew. Chem. Int. Ed. 2017, 56, 1 – 5\\n\\n(cid:2) 2017 Wiley-VCH Verlag GmbH & Co. KGaA, Weinheim\\n\\nThese are not the final page numbers! (cid:2)\\n\\nwww.angewandte.org\\n\\n5\\n\\n(cid:2)\\n\\n\\x0c',\n",
       " 'Article\\n\\npubs.acs.org/Organometallics\\n\\nIridium-Catalyzed Asymmetric Allylic Amination Reactions with\\nN‑Aryl Phosphoramidite Ligands\\nXiao Zhang, Wen-Bo Liu, Qiang Cheng, and Shu-Li You*\\n\\nState Key Laboratory of Organometallic Chemistry, Shanghai Institute of Organic Chemistry, Chinese Academy of Sciences, 345\\nLingling Lu, Shanghai 200032, People’s Republic of China\\nCollaborative Innovation Center of Chemical Science and Engineering, Tianjin, People’s Republic of China\\n\\n*S Supporting Information\\n\\nABSTRACT: A series of N-aryl phosphoramidite ligands were\\nsynthesized, and the iridium complexes derived from these\\nligands were proven to be eﬃcient catalysts\\nnovel\\nfor\\nasymmetric intermolecular allylic amination reactions. This\\nC−N bond forming process readily accommodates a diverse\\nrange of amines and allylic carbonates, especially for the\\npreviously challenging ortho-substituted cinnamyl substrates.\\nMoreover, isolation and characterization of the corresponding\\n(π-allyl)−iridium complex K1 reveal that the active iridacycle is\\ngenerated through a C(sp2)−H bond insertion of tetrahydroquinoline of the ligand.\\n\\n■ INTRODUCTION\\n\\nIridium-catalyzed asymmetric allylic substitution reactions have\\nbecome a powerful tool to construct chiral centers in organic\\nsynthesis.1 A literature survey shows that many catalytic\\nsystems involving chiral ligands such as oxazolinyl-phosphine\\nligands,1h binaphthol-derived phosphoramidites,2 phosphora-\\nmidite-oleﬁn ligands,3 and others4 have been successfully\\ndemonstrated in this transformation.\\n\\nIn particular, Ir complexes derived from Feringa type ligands\\nusually provide excellent regio- and enantioselectivity for a\\nvariety of substrates.5 Subsequent mechanistic studies by the\\nHartwig group and the Helmchen group reveal that the active\\niridacycle catalyst is generated by cyclometalation of a methyl\\nthe ligand (Figures 1 and 2a).6 Although the\\ngroup of\\n[Ir(COD)Cl]2/1a combination is widely appreciated for its\\nreactivity and selectivity,\\nits sensitivity to steric hindrance\\nsomehow limits its application. For example, ortho-substituted\\nphenyl allylic substrates were found to lead to a decrease in\\n\\nFigure 2. Structures and CPK models of iridium cinnamyl complexes\\n(anions are omitted).\\n\\neither yield or enantioselectivity in many cases (Scheme 1).7\\nRecently, our group has developed a series of N-aryl\\nphosphoramidite ligands, which oﬀer high regio- and\\nenantioselective control with a broad substrate scope involving\\nsterically congested nucleophiles.8 Moreover, these types of\\nligands were found to be superior to previously established\\nsystems in asymmetric allylic alkylation of ortho-substituted\\ncinnamyl carbonates.8a,b One possibility for the high reactivity\\nwith sterically bulky substrates has been rationalized by the fact\\nformed through C(sp2)−H\\nthat\\n\\nthe iridacycle catalyst,\\n\\nFigure 1. Phosphoramidite ligands.\\n\\nReceived: April 26, 2016\\n\\n© XXXX American Chemical Society\\n\\nA\\n\\nDOI: 10.1021/acs.organomet.6b00339\\nOrganometallics XXXX, XXX, XXX−XXX\\n\\n\\x0cOrganometallics\\n\\nScheme 1. Ir-Catalyzed Allylic Amination with Ortho-\\nSubstituted Substrates\\n\\nactivation of Me-THQphos (1b) with [Ir(COD)Cl]2, is less\\nsterically embraced in comparison with those derived from\\nFeringa type ligands (Figure 2b).\\n\\nWe went on to apply Me-THQphos (1b) in asymmetric\\nallylic aminations, with the hope of overcoming the low yield\\nand enantioselectivity obtained from the reactions between\\northo-substituted cinnamyl substrates and nitrogen-containing\\nnucleophiles in previous studies.7b,h With 2-methoxylphenyl\\nallylic carbonate and aniline as model substrates, Me-THQphos\\n(1b) as a ligand resulted in a signiﬁcantly increased\\nenantioselectivity in comparison with 1a (from 36% to 97%\\nthe\\nee; Table 1, entries 1 and 2). To our\\n\\nsurprise,\\n\\nTable 1. Investigation of Ligands in the Ir-Catalyzed Allylic\\nAmination Reaction\\n\\na\\n\\nentry\\n\\n1\\n\\n4a/5a/6ab\\n\\nyield of 4a (%)c\\n\\nee of 4a (%)d\\n\\n1\\n2\\n3\\n4\\n5\\n6\\n7\\n8e\\n\\n1a\\n1b\\n1c\\n1d\\n1e\\n1f\\n1g\\n1d + 1g\\n\\n99/1/0\\n83/14/3\\n90/10/0\\n99/1/0\\n22/78/0\\n99/1/0\\n99/1/0\\n99/1/0\\n\\n60\\n61\\n64\\n88\\n20\\n87\\n88\\n88\\n\\n36 (S)\\n97 (S)\\n85 (S)\\n97 (R)\\n91 (R)\\n55 (R)\\n97 (R)\\n97 (R)\\n\\naReaction conditions: [Ir(COD)Cl]2 (2.5 mol %), ligand 1 (5.0 mol\\n%), 2a (100 mol %), PhNH2 (3a) (200 mol %) in THF at 50 °C\\nunless noted otherwise. bDetermined by 1H NMR of the crude\\nreaction mixture. cIsolated yield. dThe ee of 4a was determined by\\nHPLC analysis. eA mixture of 1d (2.5 mol %) and 1g (2.5 mol %) was\\nused.\\n\\ncorresponding regioselectivity (branched to linear) decreased\\ndramatically from 99/1 to 83/17. The C3 terminus of the allyl\\nfragment of Kb (Figure 2b) is more electrophilic than the C1\\nterminus, which principally drives the branched selectivity as we\\nreported previously.9 However, by comparing the CPK models\\n(Figure 2), we found that the C1 terminus of Kb is much less\\nsterically surrounded than that of Ka. Thus, for the small but\\nhighly reactive nucleophiles (i.e., amines), although the\\nbranched product is still the major outcome, there are increased\\nchances to attack the C1 terminus to form a linear product. We\\nsought to improve the regioselectivity by engineering new\\nligands to create a crowded environment close by the C1\\nterminus in order to prevent it from being attacked. With these\\nideas in mind, several new N-aryl phosphoramidite ligands\\n(1c−g), designed by the installment of substituents at the 3,3′-\\npositions of the BINOL scaﬀold or increase in the size of the 2-\\ntetrahydroquinoline, were synthesized and\\nsubstituent of\\n\\nArticle\\n\\napplied in the allylic amination reactions. We herein wish to\\nreport the results from this study.\\n\\n■ RESULTS AND DISCUSSION\\n\\nOptimization of the Reaction Conditions. We next\\ninvestigated the eﬃciency of these N-aryl phosphoramidite\\nligands10 in iridium-catalyzed allylic amination reactions (Table\\n1). The 2-phenyl-substituted ligand 1c led to a slightly\\nincreased regioselectivity, but a decreased enantioselectivity\\n(entry 3). To our delight, ligand 1d,8i by introducing double\\nphenyl substituents at the 3,3′-positions of BINOL, was found\\nto be able to improve the branched selectivity dramatically (99/\\n1), meanwhile maintaining the excellent enantioselectivity\\n(97% ee, entry 4). In comparison, linear product was formed\\nfavorably when 3,3′-dibromo-substituted binaphthol derived\\nligand 1e was used (4a/5a/6a = 22/78/0, entry 5). A sharp\\ndecrease in the enantioselectivity (55% ee) was observed when\\nligand 1f without a methyl group in the amine part was\\nemployed (entry 6). Interestingly, employment of ligand 1g, a\\ndiastereomer of 1d with an opposite conﬁguration in the amine\\npart, provided results in terms of selectivity and yield identical\\nwith those of the reaction with 1d (entry 4 vs entry 7). Given\\nthe same reactivity and selectivity of the catalysts derived from\\n1d and 1g, we envisioned that it was not necessrary for the 2-\\nmethyl-1,2,3,4-tetrahydroquinoline to be enantiopure in this\\ncase. Further evidence was obtained by the use of a\\ncombination of [Ir(COD)Cl]2 with a mixture of\\nidentical\\namounts of 1d and 1g, aﬀording the same yields and\\nselectivities as expected (4a/5a/6a = 99/1/0, 88% yield, 97%\\nee, entry 8). Since the mixture of diastereomers is easily\\naccessed from readily available enantiopure BINOL and\\nracemic 2-methyltetrahydroquinoline directly, the utilization\\nof this diastereomeric ligand mixture will provide an economic\\nalternative for ligand 1d or 1g, especially for scale-up reactions.\\nSubstrate Scope. With the optimized reaction conditions\\nin hand, our eﬀorts were focused on expanding the reaction\\nsubstrate scope by exploring various nitrogen-containing\\nnucleophiles and ortho-substituted phenyl allylic carbonates\\n(Scheme 2). The results obtained with 1a as ligand for\\ncomparison were adhered to (highlighted in blue). First, with\\naniline as the nucleophile, the cinnamyl carbonate with an\\nelectron-donating methyl group at\\nthe ortho position was\\ntested (1d as the ligand), aﬀording the desired product 4b in\\ngood yield and excellent enantioselectivity (80% yield, 93% ee).\\nIn sharp contrast, only a moderate ee was obtained when 1a\\nwas employed as the ligand (58% yield, 39% ee, 4b; Scheme 2).\\nIt is worth noting that the reaction of 2-bromocinnamyl ethyl\\ncarbonate with aniline catalyzed by the chiral Ir complex\\nderived from [Ir(COD)Cl]2 and (R,R,Ra)-1a form product 4c\\nin 26% yield and 29% ee.7i Pleasingly, with a catalyst derived\\nfrom [Ir(COD)Cl]2 and ligand 1d, 2-bromocinnamyl methyl\\ncarbonate was converted to its amination product 4c in 86%\\nyield and 96% ee. Moreover, non-ortho-substituted substrates\\nincluding heteroaryl allyl carbonate and para-substituted\\ncinnamyl carbonates proceeded smoothly, with ligand 1d\\nyielding 4d−f with satisfactory results (79−85% yields, 86−\\n90% ee) in comparison with those obtained from ligand 1a\\n(74−84% yields, 88−93% ee; Scheme 2), showcasing the\\ngenerality of the current catalytic system.\\n\\nTo further test\\n\\nthe potential of\\n\\nthis Ir-catalyzed allylic\\namination reactions, we turned our attention toward other\\nnucleophiles such as indoline due to its prevalence in natural\\nproducts (4g−k, Scheme 2). While ligand 1a could only give\\n\\nB\\n\\nDOI: 10.1021/acs.organomet.6b00339\\nOrganometallics XXXX, XXX, XXX−XXX\\n\\n\\x0cOrganometallics\\n\\nArticle\\n\\nScheme 2. Substrate Scope of the Ir-Catalyzed Allylic\\nAmination Reactions\\n\\na−d\\n\\nScheme 3. Gram-Scale Synthesis of 4a\\n\\nconﬁguration of the branched products is opposite by using 1d\\nand 1a, although ligands 1d and 1a have the same chirality of\\nbinaphthol. The same phenomenon is also observed in the\\nallylic alkylations.8b Consistent with C(sp2)−H bond activation\\nfor ligand 1b,\\nit is likely that the active catalytic species of\\niridium complex is generated through C(sp2)−H bond\\nactivation in ligand 1d rather than C(sp3)−H bond activation.\\nTo verify this hypothesis, π-allyl−iridium complex K1 was\\nsynthesized according to a one-pot procedure6c,d developed by\\nHelmchen and co-workers (Scheme 4). This complex was\\n\\nScheme 4. Preparation and X-ray Structure of the (π-Allyl)−\\nIr−1d Complex K1\\n\\naReaction conditions: [Ir(COD)Cl]2 (2.5 mol %), ligand 1 (5.0 mol\\n%), 2 (100 mol %), and 3 (200 mol %) in THF at 50 °C unless noted\\notherwise. The top results are from ligand 1d (black), while the\\nbottom results are from ligand 1a (blue). bDetermined by 1H NMR of\\nthe crude reaction mixture. cIsolated yield. dee of 4 was determined by\\nHPLC analysis. e[Ir(COD)Cl]2 (5.0 mol %) and ligand 1 (10.0 mol\\n%) were used. f2-Bromocinnamyl ethyl carbonate was used as the\\nsubstrate, and ent-1a was used as the ligand; see ref 7i. gent-1a was\\nused as the ligand; see ref 2c.\\n\\nmoderate ee values (8−60% ee) except for the non-ortho-\\nsubstituted 4g (95% ee), excellent enantioselectivity (90−\\n99.9% ee) was obtained for\\nthe amination process with\\ncinnamyl carbonates having varying substituents (H, OMe, Me,\\nCl, Br) at the ortho position of the phenyl group by ligand 1d.\\nIn addition to the signiﬁcant increase in enantioselectivity, the\\nyields of products could be improved in most cases.\\n\\nFinally, benzylamine and 2-vinylaniline were also proven to\\nbe suitable nucleophiles. The reactions with 2-methoxy\\ncinnamyl methyl carbonate proceeded smoothly,\\nleading to\\nthe desired products 4l,m in better yields (85 and 80%,\\nrespectively) and ee value (97% and 88% ee, respectively) by\\nutilizing ligand 1d in comparison with ligand 1a (77% and 11%\\nyields and 76% and 29% ee, respectively; Scheme 2).\\n\\nIn order to demonstrate the robustness and practicality of the\\ncurrent method, a gram-scale reaction was carried out. The\\nallylic amination reaction between aniline and 2-methoxy\\ncinnamyl methyl carbonate was performed on a 5.0 mmol scale\\nto give product 4a in 85% yield and 97% ee (Scheme 3).\\n\\nPreparation of the π-Allyl−Iridium Complex. Evalua-\\ntion of the substrate scope led to the observation that the\\n\\nobtained as a mixture of endo and exo isomers in a ratio of\\n92:8. The C(sp2)−H bond activation was conﬁrmed\\nunambiguously by an X-ray crystallographic analysis of a crystal\\nof K1.10\\n\\nSynthetic Application. Plavix (7) is an antiplatelet\\nmedication which is used in the prevention of blood clotting\\nas well as reducing the risk of heart attack and stroke.11\\nCompound 8 displays antithrombotic and anti-blood-platelet-\\naggregating activities.12 As shown in Scheme 5, the reaction (or\\nallylic alkylation, since we are talking about 3b) of commercially\\navailable 3b with 2-chloro cinnamyl methyl carbonate\\nproceeded smoothly under the optimized conditions, delivering\\nthe desired product 4n in 86% yield and 98% ee. Attempts to\\n\\nScheme 5. Transformation\\n\\nC\\n\\nDOI: 10.1021/acs.organomet.6b00339\\nOrganometallics XXXX, XXX, XXX−XXX\\n\\n\\x0cOrganometallics\\n\\nArticle\\n\\nconvert 4n to Plavix under various oxidation conditions have\\nfailed so far.13 Subjecting compound 4n (98% ee) to a\\nPd(OH)2/C-catalyzed hydrogenation reaction aﬀorded com-\\npound 8 in 94% yield and 97% ee.\\n\\n■ CONCLUSION\\n\\nIn conclusion, various N-aryl phosphoramidite ligands were\\nsynthesized and demonstrated to be superior to the Feringa\\nligands in Ir-catalyzed allylic amination reactions, especially\\nwhen ortho-substituted cinnamyl carbonates were used. High\\nto excellent regio- and enantioselectivities could be achieved for\\nincluding aniline,\\nseveral nitrogen-containing nucleophiles,\\nindoline, benzylamine, and 2-vinylaniline. X-ray analysis of a\\n(π-allyl)−iridium complex revealed that the active Ir complex is\\nformed via a C(sp2)−H activation.\\n\\n■ EXPERIMENTAL SECTION\\n\\nGeneral Procedure for\\n\\nIr-Catalyzed Allylic Amination\\nReaction. In a dry Schlenk tube ﬁlled with argon, [Ir(COD)Cl]2\\n(3.3 mg, 0.005 mmol, 2.5 mol %), phosphoramidite ligand 1d (6.1 mg,\\n0.01 mmol, 5 mol %), and propylamine (0.5 mL) were dissolved in\\nTHF (0.5 mL). The reaction mixture was heated to 50 °C for 30 min\\nand then the volatile solvents were removed in vacuum to give a yellow\\nsolid. In this tube, allylic carbonate 2 (0.20 mmol) and amine 3 (0.4\\nmmol, 2 equiv) were added and stirred at 50 °C until the reaction was\\ncomplete. The solvent was evaporated and the regioselectivity (4/5)\\nwas determined by 1H NMR of the crude reaction mixture. The\\nresidue was puriﬁed by silica gel column chromatography using PE/EA\\nas the eluent to give desired product 4.\\n\\nCompound (R)-4a. Yellow oil, 37.7 mg, 88% yield, 97% ee (Daicel\\nChiralcel OD-H (0.46 cm × 25 cm), n-hexane/2-propanol 98/2, v =\\n0.8 mL min−1, λ 230 nm, t(major) = 7.64 min, t(minor) = 8.56 min);\\n23 = +26.0 (c = 1.0, CHCl3). 1H NMR (400 MHz, CDCl3): δ 3.86\\n[α]D\\n(s, 3H, OCH3), 4.20 (br s, 1H, NH), 5.14−5.24 (m, 2H, CH2), 5.33\\n(d, 3JH−H = 5.2 Hz, 1H, CH), 6.07 (ddd, 3JH−H = 5.6, 3JH−H = 10.4,\\n3JH−H = 17.2 Hz, 1H, CH), 6.60 (d, 3JH−H = 10.0 Hz, 2H, Ar-H), 6.66\\n(t, 3JH−H = 8.4 Hz, 1H, Ar-H), 6.89−6.94 (m, 2H, Ar-H), 7.10−7.14\\n(m, 2H, Ar-H), 7.24 (dt, 4JH−H = 2.0, 3JH−H = 7.6 Hz, 1H, Ar-H), 7.31\\n(dd, 4JH−H = 1.6, 3JH−H = 7.6 Hz, 1H, Ar-H). 13C{1H} NMR (75 MHz,\\nCDCl3): δ 54.6, 55.4, 110.7, 113.4, 115.1, 117.3, 120.8, 127.7, 128.4,\\nmax (cm−1) 3409,\\n129.0, 129.7, 138.6, 147.3, 156.8. IR (thin ﬁlm): ν\\n3050, 2836, 1599, 1500, 1462, 1436, 1314, 1238, 1179, 1089, 1049,\\n1026, 992, 922, 870, 746, 691. HRMS (ESI): calcd for C16H18NO [M\\n+ H]+, 240.1383; found, 240.1374.\\n\\nCompound (R)-4b. Yellow oil, 37.2 mg, 80% yield, 93% ee (Daicel\\nChiralpak AD-H (0.46 cm × 25 cm), n-hexane/2-propanol 100/1, v =\\n0.5 mL min−1, λ 214 nm, t(major) = 15.53 min, t(minor) = 16.78\\n20 = −6.5 (c = 1.0, CHCl3). 1H NMR (300 MHz, CDCl3):\\nmin); [α]D\\nδ 2.38 (s, 3H, CH3), 3.95 (br s, 1H, NH), 5.09 (d, 3JH−H = 4.8 Hz, 1H,\\nCH), 5.23 (d, 3JH−H = 18.3 Hz, 1H, CH2), 5.25 (d, 3JH−H = 9.0 Hz, 1H,\\nCH), 6.04 (ddd, 3JH−H = 5.1, 3JH−H = 10.2, 3JH−H = 16.2 Hz, 1H, CH),\\n6.55 (d, 3JH−H = 7.5 Hz, 2H, Ar-H), 6.68 (t, 3JH−H = 7.2 Hz, 1H, Ar-\\nH), 7.10−7.19 (m, 5H, Ar-H), 7.36−7.40 (m, 1H, Ar-H). 13C{1H}\\nNMR (75 MHz, CDCl3): δ 19.2, 56.9, 113.1, 116.4, 117.4, 126.4,\\n126.5, 127.3, 129.1, 130.6, 136.0, 137.8, 139.4, 147.3. IR (thin ﬁlm):\\nmax (cm−1) 3410, 3051, 3020, 2962, 2920, 2852, 1602, 1502, 1461,\\nν\\n1428, 1316, 1261, 1090, 1019, 926, 868, 799, 749, 727, 692. HRMS\\n(ESI): calcd for C16H18N [M + H]+, 224.1434; found, 224.1430.\\n\\nCompound (R)-4c.7i Yellow oil, 50.2 mg, 86% yield, 96% ee\\n(Daicel Chiralpak AD-H (0.46 cm × 25 cm), n-hexane/2-propanol\\n98/2, v = 1.0 mL min−1, λ 220 nm, t(major) = 5.64 min, t(minor) =\\n20 = −87.2 (c = 1.0, CHCl3). 1H NMR (400 MHz,\\n6.94 min); [α]D\\nCDCl3): δ 3.23 (br s, 1H, NH), 5.19−5.26 (m, 2H, CH2), 5.40 (d,\\n3JH−H = 6.0 Hz, 1H, CH), 6.04 (ddd, 3JH−H = 5.6, 3JH−H = 10.4, 3JH−H\\n= 17.2 Hz, 1H, CH), 6.54 (d, 3JH−H = 9.6 Hz, 2H, Ar-H), 6.67−6.70\\n(m, 1H, Ar-H), 7.10−7.14 (m, 2H, Ar-H), 7.19−7.23 (m, 2H, Ar-H),\\n7.37−7.40 (m, 1H, Ar-H), 7.43−7.46 (m, 1H, Ar-H).\\n\\nCompound (R)-4d. Yellow oil, 30.3 mg, 79% yield, 86% ee (Daicel\\nChiralcel OJ-H (0.46 cm × 15 cm), n-hexane/2-propanol 80/20, v =\\n0.5 mL min−1, λ 230 nm, t(minor) = 22.04 min, t(major) = 25.13\\n20 = −64.9 (c = 1.0, CHCl3). 1H NMR (400 MHz, CDCl3):\\nmin); [α]D\\nδ 4.05 (br s, 1H, NH), 5.21 (br s, 1H, CH), 5.25−5.38 (m, 2H, CH2),\\n6.06 (ddd, 3JH−H = 6.0, 3JH−H = 10.4, 3JH−H = 17.2 Hz, 1H, CH), 6.65\\n(dd, 4JH−H = 1.2, 3JH−H = 8.8 Hz, 2H, Ar-H), 6.71−6.75 (m, 1H, Ar-\\nH), 6.96−7.01 (m, 2H, Ar-H), 7.14−7.18 (m, 2H, Ar-H), 7.22 (dd, J =\\n4JH−H = 1.6, 3JH−H = 5.2 Hz, 1H, Ar-H). 13C{1H} NMR (100 MHz,\\nCDCl3): δ 56.3, 113.7, 116.5, 118.1, 124.6, 124.7, 126.9, 129.1, 138.2,\\nmax (cm−1) 3663, 3401, 2969, 2903, 1599,\\n146.3, 146.7. IR (thin ﬁlm): ν\\n1500, 1428, 1312, 1256, 1228, 1179, 1068, 1038, 991, 926, 795, 748,\\n690. MS-EI: 215 [M]+. HRMS-EI: m/z [M]+ calcd for C13H13NS\\n(M+), 215.0769; found, 215.0772.\\n\\nCompound (R)-4e.14 Yellow oil, 48.6 mg, 85% yield, 87% ee\\n(Daicel Chiralpak AD-H (0.46 cm × 25 cm), n-hexane/2-propanol\\n98/2, v = 1.0 mL min−1, λ 230 nm, t(major) = 7.85 min, t(minor) =\\n8.36 min); [α]D\\n20 = +1.5 (c = 1.0, CHCl3). 1H NMR (300 MHz,\\nCDCl3): δ 4.01 (br s, 1H, NH), 4.89 (d, 3JH−H = 5.7 Hz, 1H, CH),\\n5.22 (d, 3JH−H = 11.1 Hz, 1H, CH2), 5.23 (d, 3JH−H = 17.1 Hz, 1H,\\nCH2), 6.00 (ddd, 3JH−H = 6.0, 3JH−H = 9.9, 3JH−H = 16.8 Hz, 1H, CH),\\n6.55 (d, 3JH−H = 7.8 Hz, 2H, Ar-H), 6.70 (t, 3JH−H = 7.5 Hz, 1H, Ar-\\nH), 7.13 (t, 3JH−H = 7.8 Hz, 2H, Ar-H), 7.25 (d, 3JH−H = 8.1 Hz, 2H,\\nAr-H), 7.46 (d, 3JH−H = 8.4 Hz, 2H, Ar-H).\\n\\nCompound (R)-4f.14 Yellow oil, 35.1 mg, 80% yield, 90% ee\\n(Daicel Chiralcel OD-H (0.46 cm × 25 cm), n-hexane/2-propanol\\n100/1, v = 0.5 mL min−1, λ 214 nm, t(major) = 31.78 min, t(minor) =\\n37.58 min); [α]D\\n20 = +18.1 (c = 1.0, CHCl3). 1H NMR (300 MHz,\\nCDCl3): δ 3.79 (s, 3H, OCH3), 3.98 (br s, 1H, NH), 4.88 (d, 3JH−H =\\n5.1 Hz, 1H, CH), 5.21 (d, 3JH−H = 11.4 Hz, 1H, CH2), 5.26 (d, 3JH−H =\\n18.3 Hz, 1H, CH2), 6.01 (ddd, 3JH−H = 6.0, 3JH−H = 10.2, 3JH−H = 16.8\\nHz, 1H, CH), 6.59 (d, 3JH−H = 8.1 Hz, 2H, Ar-H), 6.68 (t, 3JH−H = 7.2\\nHz, 1H, Ar-H), 6.88 (d, 3JH−H = 8.7 Hz, 2H, Ar-H), 7.13 (d, 3JH−H =\\n7.5 Hz, 2H, Ar-H), 7.29 (d, 3JH−H = 9.0 Hz, 2H, Ar-H).\\n\\nCompound (R)-4g.15 Yellow oil, 44.3 mg, 94% yield, 90% ee\\n(Agilent 1260 Inﬁnity Analytical SFC system, Daicel Chiralpak IC\\n(0.46 cm × 15 cm), CO2/2-propanol 95/5, v = 1.3 mL min−1, λ 214\\nnm, t(major) = 6.56 min, t(minor) = 6.90 min); [α]D\\n23 = +33.9 (c =\\n1.0, CHCl3). 1H NMR (400 MHz, CDCl3): δ 2.95 (t, 3JH−H = 8.8 Hz,\\n2H, CH2), 3.30−3.40 (m, 2H, CH2), 4.96 (d, 3JH−H = 7.6 Hz, 1H,\\nCH), 5.28−5.32 (m, 2H, CH2), 6.05−6.14 (m, 1H, CH), 6.30 (d,\\n3JH−H = 8.0 Hz, 1H, Ar-H), 6.62 (t, 3JH−H = 7.2 Hz, 1H, Ar-H), 6.95 (t,\\n3JH−H = 7.6 Hz, 1H, Ar-H), 7.06 (dd, 4JH−H = 0.8, 3JH−H = 7.2 Hz, 1H,\\nAr-H), 7.25−7.29 (m, 1H, Ar-H), 7.34 (t, 3JH−H = 7.2 Hz, 2H, Ar-H),\\n7.42 (d, 3JH−H = 8.8 Hz, 2H, Ar-H).\\n\\nCompound (R)-4h. Yellow oil, 52.0 mg, 98% yield, > 99.9% ee\\n(Daicel Chiralcel OD-H (0.46 cm × 25 cm), n-hexane/2-propanol\\n1000/1, v = 1.0 mL min−1, λ 230 nm, t(minor) = 18.35 min, t(major)\\n= 23.89 min); [α]D\\n20 = +35.9 (c = 1.0, CHCl3). 1H NMR (300 MHz,\\nCDCl3): δ 2.88−2.94 (m, 2H, CH2), 3.23−3.42 (m, 2H, CH2), 3.79\\n(s, 3H, OCH3), 5.19−5.28 (m, 2H, CH2), 5.42 (d, 3JH−H = 6.3 Hz, 1H,\\nCH), 6.05 (ddd, 3JH−H = 6.6, 3JH−H = 10.2, 3JH−H = 17.1 Hz, 1H, CH),\\n6.38 (d, 3JH−H = 7.8 Hz, 1H, Ar-H), 6.57 (t, 3JH−H = 7.2 Hz, 1H, Ar-\\nH), 6.90 (t, 3JH−H = 8.7 Hz, 2H, Ar-H), 6.95 (t, 3JH−H = 8.7 Hz, 1H,\\nAr-H), 7.02 (d, 3JH−H = 7.5 Hz, 1H, Ar-H), 7.20−7.27 (m, 1H, Ar-H),\\n7.38 (dd, 4JH−H = 1.5, 3JH−H = 7.8 Hz, 1H, Ar-H). 13C{1H} NMR (75\\nMHz, CDCl3): δ 28.3, 50.2, 55.5, 57.1, 107.6, 110.7, 116.3, 116.8,\\n120.4, 124.0, 127.0, 128.3, 128.6, 128.9, 129.9, 136.6, 151.8, 157.0. IR\\nmax (cm−1) 2836, 1677, 1603, 1488, 1460, 1242, 1159,\\n(thin ﬁlm): ν\\n1107, 1050, 1026, 922, 741, 685. HRMS (ESI): calcd for C18H20NO\\n[M + H]+, 266.1539; found, 266.1541.\\n\\nCompound (R)-4i. Yellow oil, 44.1 mg, 75% yield, 94% ee (Daicel\\nChiralcel OD-H (0.46 cm × 25 cm), n-hexane/2-propanol 98/2, v =\\n0.5 mL min−1, λ 214 nm, t(minor) = 12.70 min, t(major) = 13.88\\nmin); [α]D\\n23 = +64.2 (c = 1.0, CHCl3). 1H NMR (300 MHz, CDCl3):\\nδ 2.35 (s, 3H, CH3), 2.93 (t, 3JH−H = 8.7 Hz, 2H, CH2), 3.15−3.23 (m,\\n1H, CH2), 3.29−3.38 (m, 1H, CH2), 5.07 (d, 3JH−H = 6.6 Hz, 1H,\\nCH), 5.23 (d, 3JH−H = 17.1 Hz, 1H, CH2), 5.26 (d, 3JH−H = 10.2 Hz,\\n1H, CH2), 6.05 (ddd, 3JH−H = 6.9, 3JH−H = 10.2, 3JH−H = 17.1 Hz, 1H,\\nCH), 6.24 (d, 3JH−H = 8.1 Hz, 1H, Ar-H), 6.60 (t, 3JH−H = 7.5 Hz, 1H,\\n\\nD\\n\\nDOI: 10.1021/acs.organomet.6b00339\\nOrganometallics XXXX, XXX, XXX−XXX\\n\\n\\x0cOrganometallics\\n\\nArticle\\n\\nAr-H), 6.95 (t, 3JH−H = 7.8 Hz, 1H, Ar-H), 7.04 (d, 3JH−H = 6.9 Hz,\\n1H, Ar-H), 7.18−7.19 (m, 3H, Ar-H), 7.41−7.44 (m, 1H, Ar-H).\\n13C{1H} NMR (75 MHz, CDCl3): δ 19.3, 28.2, 50.0, 60.8, 107.2,\\n116.99, 117.03, 124.2, 126.0, 127.1, 127.2, 127.6, 130.0, 130.5, 135.4,\\nmax (cm−1) 3022, 2845, 1748,\\n136.6, 138.6, 151.5. IR (thin ﬁlm): ν\\n1639, 1605, 1485, 1458, 1332, 1260, 1158, 1024, 996, 921, 873, 740,\\n640. HRMS (ESI): calcd for C18H20N [M + H]+, 250.1590; found,\\n250.1584.\\n\\nCompound (R)-4j. Yellow oil, 49.2 mg, 94% yield, 97% ee (Daicel\\nChiralcel OJ-H (0.46 cm × 25 cm), n-hexane/2-propanol 98/2, v = 0.5\\nmL min−1, λ 214 nm, t(major) = 17.54 min, t(minor) = 22.71 min);\\n20 = −22.0 (c = 1.0, CHCl3). 1H NMR (300 MHz, CDCl3): δ 2.96\\n[α]D\\n(t, 3JH−H = 8.1 Hz, 2H, CH2), 3.35−3.41 (m, 2H, CH2), 5.24−5.31\\n(m, 3H, CH and CH2), 6.00 (ddd, 3JH−H = 6.9, 3JH−H = 10.2, 3JH−H =\\n17.4 Hz, 1H, CH), 6.22 (d, 3JH−H = 8.1 Hz, 1H, Ar-H), 6.61 (t, 3JH−H\\n= 7.5 Hz, 1H, Ar-H), 6.94 (t, 3JH−H = 7.5 Hz, 1H, Ar-H), 7.05 (d,\\n3JH−H = 6.9 Hz, 1H, Ar-H), 7.18−7.27 (m, 2H, Ar-H), 7.38−7.41 (m,\\n1H, Ar-H), 7.52−7.55 (m, 1H, Ar-H). 13C{1H} NMR (75 MHz,\\nCDCl3): δ 28.3, 50.9, 61.5, 107.7, 117.5, 117.7, 124.2, 127.0, 127.1,\\n128.5, 129.2, 129.8, 130.0, 133.7, 135.3, 138.3, 151.4. IR (thin ﬁlm):\\nmax (cm−1) 2962, 2847, 1606, 1486, 1441, 1261, 1089, 1025, 928, 871,\\nν\\n799, 745. HRMS (ESI): calcd for C17H17ClN [M + H]+, 270.1044;\\nfound, 270.1037.\\n\\nCompound (R)-4k. Yellow oil, 67.5 mg, 91% yield, 93% ee (Daicel\\nChiralcel OJ-H (0.46 cm × 25 cm), n-hexane/2-propanol 98/2, v = 0.5\\nmL min−1, λ 214 nm, t(major) = 18.29 min, t(minor) = 22.71 min);\\n20 = −20.6 (c = 1.0, CHCl3). 1H NMR (300 MHz, CDCl3): δ 2.97\\n[α]D\\n(t, 3JH−H = 7.8 Hz, 2H, CH2), 3.35−3.42 (m, 2H, CH2), 5.24−5.33\\n(m, 3H, CH and CH2), 5.99 (ddd, 3JH−H = 7.2, 3JH−H = 10.5, 3JH−H =\\n17.4 Hz, 1H, CH), 6.21 (d, 3JH−H = 7.8 Hz, 1H, Ar-H), 6.62 (t, 3JH−H\\n= 7.5 Hz, 1H, Ar-H), 6.94 (t, 3JH−H = 8.1 Hz, 1H, Ar-H), 7.06 (d,\\n3JH−H = 7.2 Hz, 1H, Ar-H), 7.11−7.17 (m, 1H, Ar-H), 7.29 (t, 3JH−H =\\n7.5 Hz, 1H, Ar-H), 7.54 (d, 3JH−H = 7.8 Hz, 1H, Ar-H), 7.60 (d, 3JH−H\\n= 8.1 Hz, 1H, Ar-H). 13C{1H} NMR (75 MHz, CDCl3): δ 28.3, 50.9,\\n61.5, 107.7, 117.5, 117.7, 124.2, 127.0, 127.1, 128.5, 129.2, 129.8,\\nmax (cm−1) 3049,\\n130.0, 133.7, 135.3, 138.3, 151.4. IR (thin ﬁlm): ν\\n2843, 1639, 1605, 1566, 1485, 1437, 1333, 1259, 1158, 1022, 994, 925,\\n872, 807, 741, 643. HRMS (ESI): calcd for C17H17BrN [M + H]+,\\n314.0539; found, 314.0532.\\n\\nCompound (R)-4l.2c Yellow oil, 43.2 mg, 85% yield, 97% ee\\n(Phenomenex Lu × 5u Amylose-2 (0.46 cm × 25 cm), n-hexane/2-\\npropanol 85/15, v = 0.5 mL min−1, λ 230 nm, t(minor) = 9.63 min,\\n20 = −1.5 (c = 1.0, CHCl3). 1H NMR\\nt(major) = 10.20 min); [α]D\\n(300 MHz, CDCl3): δ 1.96 (br s, 1H, NH), 3.66−3.76 (m, 2H, CH2),\\n3.80 (s, 3H, OCH3), 4.58 (d, 3JH−H = 6.6 Hz, 1H, CH), 5.11 (d, 3JH−H\\n= 9.6 Hz, 1H, CH2), 5.21 (d, 3JH−H = 17.1 Hz, 1H, CH2), 6.03 (ddd,\\n3JH−H = 6.9, 3JH−H = 10.5, 3JH−H = 17.1 Hz, 1H, CH), 6.87 (d, 3JH−H =\\n7.8 Hz, 1H, Ar-H), 6.95 (t, 3JH−H = 7.2 Hz, 1H, Ar-H), 7.21−7.36 (m,\\n7H, Ar-H).\\n\\nCompound (R)-4m. Yellow oil, 47.3 mg, 80% yield, 88% ee\\n(Daicel Chiralcel OJ-H (0.46 cm × 25 cm), n-hexane/2-propanol 95/\\n5, v = 1.0 mL min−1, λ 220 nm, t(minor) = 6.85 min, t(major) = 7.65\\n20 = −38.5 (c = 1.0, CHCl3). 1H NMR (300 MHz, CDCl3):\\nmin); [α]D\\nδ 3.85 (s, 3H, OCH3), 4.43 (br s, 1H, NH), 5.15 (d, 3JH−H = 10.5 Hz,\\n1H, CH2), 5.20 (d, 3JH−H = 18.0 Hz, 1H, CH2), 5.30−5.37 (m, 2H,\\nCH and CH2), 5.62 (d, 3JH−H = 17.1 Hz, 1H, CH2), 6.08 (ddd, 3JH−H =\\n5.4, 3JH−H = 10.2, 3JH−H = 16.8 Hz, 1H, CH), 6.55 (d, 3JH−H = 8.1 Hz,\\n1H, Ar-H), 6.67 (t, 3JH−H = 7.2 Hz, 1H, Ar-H), 6.77−6.94 (m, 3H, Ar-\\nH), 7.06 (t, 3JH−H = 7.5 Hz, 1H, Ar-H), 7.21−7.30 (m, 3H, Ar-H).\\n13C{1H} NMR (75 MHz, CDCl3): δ 54.8, 55.4, 110.8, 112.1, 115.1,\\n116.1, 117.2, 120.9, 124.3, 127.3, 127.7, 128.4, 128.7, 129.6, 133.1,\\nmax (cm−1) 2963, 1600, 1489,\\n138.6, 144.2, 156.8. IR (thin ﬁlm): ν\\n1456, 1261, 1095, 1023, 917, 799, 748. HRMS (ESI): calcd for\\nC18H20NO [M + H]+, 266.1539; found, 266.1536.\\n\\nCompound (R)-4n. Colorless oil, 499.3 mg, 86% yield, 98% ee\\n(Daicel Chiralcel OJ-H (0.46 cm × 25 cm), n-hexane/2-propanol 98/\\n2, v = 0.5 mL min−1, λ 230 nm, t(minor) = 15.92 min, t(major) =\\n15 = −41.3 (c = 1.0, CHCl3). 1H NMR (300 MHz,\\n17.96 min); [α]D\\nCDCl3): δ 2.75−2.89 (m, 4H, CH2 CH2), 3.43 (d, 2JH−H = 14.7 Hz,\\n\\n1H, CH2), 3.69 (d, 2JH−H = 14.7 Hz, 1H, CH2), 4.48 (d, 3JH−H = 9.0\\nHz, 1H, CH), 5.10 (dd, 2JH−H = 1.2, 3JH−H = 9.9 Hz, 1H, CH2), 5.39\\n(dd, 2JH−H = 0.6, 3JH−H = 17.1 Hz, 1H, CH2), 5.82 (ddd, 3JH−H = 9.0,\\n3JH−H = 9.6, 3JH−H = 17.1 Hz, 1H, CH), 6.65 (d, 3JH−H = 5.1 Hz, 1H,\\nAr-H), 7.01 (d, 3JH−H = 5.1 Hz, 1H, Ar-H), 7.12 (dt, 4JH−H = 1.5, 3JH−H\\n= 7.5 Hz, 1H, Ar-H), 7.23 (t, 3JH−H = 7.5 Hz, 1H, Ar-H), 7.33 (dd,\\n4JH−H = 1.2, 3JH−H = 7.8 Hz, 1H, Ar-H), 7.65 (dd, 4JH−H = 1.5, 3JH−H =\\n7.8 Hz, 1H, Ar-H). 13C{1H} NMR (75 MHz, CDCl3): δ 25.4, 48.6,\\n51.5, 68.7, 116.7, 122.5, 125.3, 127.2, 127.9, 128.8, 129.6, 133.4, 133.6,\\nmax (cm−1) 3065, 2962, 2922,\\n133.9, 138.9, 139.3. IR (thin ﬁlm): ν\\n2843, 1638, 2808, 2760, 1592, 1469, 1435, 1369, 1341, 1320, 1299,\\n1260, 1172, 1096, 1080, 1048, 1033, 1013, 923, 799, 756, 734, 702,\\n673. HRMS (ESI): calcd for C16H17ClNS [M + H]+, 290.0765; found,\\n290.0754.\\n\\nGeneral Procedure for the Preparation of\\n\\n(π-Allyl)−Ir\\nComplex K1. In a ﬂame-dried Schlenk tube were placed a solution\\nof [Ir(COD)Cl]2 (203.8 mg, 0.3 mmol) and ligand 1d (378.9 mg, 0.6\\nmmol) in dry THF (20 mL) under an argon atmosphere. After the\\nmixture was stirred for 30 min at room temperature, AgOTf (157.6\\nmg, 0.6 mmol) and allyl methyl carbonate (168.8 mg, 1.5 mmol) were\\nadded subsequently, and the reaction mixture was stirred overnight to\\naﬀord a pale suspension. The precipitate was ﬁltered, and the solvents\\nwere removed under reduced pressure. The residue was washed with\\ndiethyl ether (10 mL × 3) to give (π-allyl)−Ir complex K1 (284.8 mg,\\n85%) as a pale yellow powder, existing as two isomers in a ratio of 92/\\n8 as determined by 31P NMR.\\n\\nFull details can be found in the Supporting Information.\\n\\n■ ASSOCIATED CONTENT\\n\\n*S Supporting Information\\nThe Supporting Information is available free of charge on the\\nACS Publications website at DOI: 10.1021/acs.organo-\\nmet.6b00339.\\n\\nExperimental procedures and analysis data for all new\\ncompounds (PDF)\\nCrystallographic data (CIF)\\n\\n■ AUTHOR INFORMATION\\n\\nCorresponding Author\\n*E-mail for S.-L.Y.: slyou@sioc.ac.cn.\\nNotes\\nThe authors declare no competing ﬁnancial interest.\\n\\n■ ACKNOWLEDGMENTS\\n\\nWe thank the National Basic Research Program of China\\nthe National Natural\\n(2016YFA0202900, 2015CB856600),\\nScience Foundation of China (21332009, 21421091,\\n21572252), and the Chinese Academy of Sciences for generous\\nﬁnancial support.\\n\\n■ REFERENCES\\n\\n(1) For selected reviews, see: (a) Helmchen, G.; Dahnz, A.; Dübon,\\nP.; Schelwies, M.; Weihofen, R. Chem. Commun. 2007, 675−691.\\n(b) Helmchen, G. In Iridium Complexes in Organic Synthesis; Oro, L.\\nA., Claver, C., Eds.; Wiley-VCH: Weinheim, Germany, 2009; pp 211−\\n250. (c) Hartwig, J. F.; Stanley, L. M. Acc. Chem. Res. 2010, 43, 1461−\\n1475. (d) Hartwig, J. F.; Pouy, M. J. Top. Organomet. Chem. 2011, 34,\\n169−208. (e) Liu, W.-B.; Xia, J.-B.; You, S.-L. Top. Organomet. Chem.\\n2012, 38, 155−208. (f) Tosatti, P.; Nelson, A.; Marsden, S. P. Org.\\nBiomol. Chem. 2012, 10, 3147−3163. (g) Liu, W.; Zhao, X. Synthesis\\n2013, 45, 2051−2069.\\nsee:\\n(h) Takeuchi, R.; Kashio, M. Angew. Chem., Int. Ed. Engl. 1997, 36,\\n263−265. For the first asymmetric example, see: (i) Janssen, J. P.;\\nHelmchen, G. Tetrahedron Lett. 1997, 38, 8025−8026.\\n(2) For selected examples, see: (a) Bartels, B.; Helmchen, G. Chem.\\nCommun. 1999, 741−742. (b) Fuji, K.; Kinoshita, N.; Kawabata, T.;\\n\\nracemic example,\\n\\nthe first\\n\\nFor\\n\\nE\\n\\nDOI: 10.1021/acs.organomet.6b00339\\nOrganometallics XXXX, XXX, XXX−XXX\\n\\n\\x0cOrganometallics\\n\\nTanaka, K. Chem. Commun. 1999, 2289−2290. (c) Ohmura, T.;\\nHartwig, J. F. J. Am. Chem. Soc. 2002, 124, 15164−15165. (d) Bartels,\\nB.; García-Yebra, C.; Helmchen, G. Eur. J. Org. Chem. 2003, 1097−\\n1103. (e) Tissot-Croset, K.; Polet, D.; Alexakis, A. Angew. Chem., Int.\\nEd. 2004, 43, 2426−2428. (f) Lipowsky, G.; Miller, N.; Helmchen, G.\\nAngew. Chem., Int. Ed. 2004, 43, 4595−4597. (g) Leitner, A.; Shekhar,\\nS.; Pouy, M. J.; Hartwig, J. F. J. Am. Chem. Soc. 2005, 127, 15506−\\n15514. (h) Onodera, G.; Watabe, K.; Matsubara, M.; Oda, K.; Kezuka,\\nS.; Takeuchi, R. Adv. Synth. Catal. 2008, 350, 2725−2732.\\n(3) For early examples, see: (a) Roggen, M.; Carreira, E. M. J. Am.\\nChem. Soc. 2010, 132, 11917−11919. (b) Roggen, M.; Carreira, E. M.\\nAngew. Chem., Int. Ed. 2011, 50, 5568−5571. (c) Lafrance, M.;\\nRoggen, M.; Carreira, E. M. Angew. Chem., Int. Ed. 2012, 51, 3470−\\n3473. (d) Roggen, M.; Carreira, E. M. Angew. Chem., Int. Ed. 2012, 51,\\n8652−8655. (e) Schafroth, M. A.; Sarlah, D.; Krautwald, S.; Carreira,\\nE. M. J. Am. Chem. Soc. 2012, 134, 20276−20278. (f) Hamilton, J. Y.;\\nSarlah, D.; Carreira, E. M. J. Am. Chem. Soc. 2013, 135, 994−997.\\n(g) Hamilton, J. Y.; Sarlah, D.; Carreira, E. M. Angew. Chem., Int. Ed.\\n2013, 52, 7532−7535. (h) Krautwald, S.; Sarlah, D.; Schafroth, M. A.;\\nCarreira, E. M. Science 2013, 340, 1065−1068.\\n(4) For use of diene ligands, see: (a) Fischer, C.; Defieber, C.; Suzuki,\\nT.; Carreira, E. M. J. Am. Chem. Soc. 2004, 126, 1628−1629. For use\\nof Py-box ligands, see: (b) Miyabe, H.; Matsumura, A.; Moriyama, K.;\\nTakemoto, Y. Org. Lett. 2004, 6, 4631−4634. For use of chiral\\ndiaminophosphine oxides (DIAPHOXs),\\nsee: (c) Nemoto, T.;\\nSakamoto, T.; Fukuyama, T.; Hamada, Y. Tetrahedron Lett. 2007,\\n48, 4977−4981.\\nsee:\\nFor use of phosphorodiamidite ligands,\\n(d) Kimura, M.; Uozumi, Y. J. Org. Chem. 2007, 72, 707−714.\\n(5) For a review, see: Teichert, J. F.; Feringa, B. L. Angew. Chem., Int.\\nEd. 2010, 49, 2486−2528. For the first application of a Feringa ligand\\nin an Ir-catalyzed allylic substitution reaction, see ref 2c.\\n(6) (a) Kiener, C. A.; Shu, C.; Incarvito, C.; Hartwig, J. F. J. Am.\\nChem. Soc. 2003, 125, 14272−14273. (b) Madrahimov, S. T.;\\nMarkovic, D.; Hartwig, J. F. J. Am. Chem. Soc. 2009, 131, 7228−\\n7229. (c) Spiess, S.; Raskatov, J. A.; Gnamm, C.; Brödner, K.;\\nHelmchen, G. Chem. - Eur. J. 2009, 15, 11087−11090. (d) Raskatov, J.\\nA.; Spiess, S.; Gnamm, C.; Brödner, K.; Rominger, F.; Helmchen, G.\\nChem. - Eur. J. 2010, 16, 6601−6615.\\n(7) (a) López, F.; Ohmura, T.; Hartwig, J. F. J. Am. Chem. Soc. 2003,\\n125, 3426−3427. (b) Shu, C.; Leitner, A.; Hartwig, J. F. Angew. Chem.,\\nInt. Ed. 2004, 43, 4797−4800. (c) Polet, D.; Alexakis, A.; Tissot-\\nCroset, K.; Corminboeuf, C.; Ditrich, K. Chem. - Eur. J. 2006, 12,\\n3596−3609. (d) Yamashita, Y.; Gopalarathnam, A.; Hartwig, J. F. J.\\nAm. Chem. Soc. 2007, 129, 7508−7509. (e) Pouy, M. J.; Leitner, A.;\\nWeix, D. J.; Ueno, S.; Hartwig, J. F. Org. Lett. 2007, 9, 3949−3952.\\n(f) Liu, W.-B.; He, H.; Dai, L.-X.; You, S.-L. Org. Lett. 2008, 10, 1815−\\n1818. (g) Liu, W.-B.; Zheng, S.-C.; He, H.; Zhao, X.-M.; Dai, L.-X.;\\nYou, S.-L. Chem. Commun. 2009, 6604−6606. (h) Stanley, L. M.;\\nJ. Am. Chem. Soc. 2009, 131, 8971−8983.\\nHartwig,\\n(i) Madrahimov, S. T.; Hartwig, J. F. J. Am. Chem. Soc. 2012, 134,\\n8136−8147.\\n(8) For the synthesis of ligands, see: (a) Liu, W.-B.; He, H.; Dai, L.-\\nX.; You, S.-L. Synthesis 2009, 2076−2082. (b) Liu, W.-B.; Zheng, C.;\\nZhuo, C.-X.; Dai, L.-X.; You, S.-L. J. Am. Chem. Soc. 2012, 134, 4812−\\n4821.\\nligands in reactions with sterically\\ncongested nucleophiles, see: (c) Wu, Q.-F.; He, H.; Liu, W.-B.; You,\\nS.-L. J. Am. Chem. Soc. 2010, 132, 11418−11419. (d) Liu, W.-B.;\\nReeves, C. M.; Virgil, S. C.; Stoltz, B. M. J. Am. Chem. Soc. 2013, 135,\\n10626−10629. (e) Liu, W.-B.; Reeves, C. M.; Stoltz, B. M. J. Am.\\nChem. Soc. 2013, 135, 17298−17301. (f) Yang, Z.-P.; Wu, Q.-F.; You,\\nS.-L. Angew. Chem., Int. Ed. 2014, 53, 6986−6989. (g) Zhang, X.; Liu,\\nW.-B.; Tu, H.-F.; You, S.-L. Chem. Sci. 2015, 6, 4525−4529. (h) Yang,\\nZ.-P.; Wu, Q.-F.; Shao, W.; You, S.-L. J. Am. Chem. Soc. 2015, 137,\\n15899−15906. (i) Cheng, Q.; Wang, Y.; You, S.-L. Angew. Chem., Int.\\nEd. 2016, 55, 3496−3499. (j) Liu, W.-B.; Okamoto, N.; Alexy, E. J.;\\nHong, A. Y.; Tran, K.; Stoltz, B. M. J. Am. Chem. Soc. 2016, 138,\\n5234−5237. (k) Zhao, K.; Xu, S.; Pan, C.; Sui, X.; Gu, Z. Org. Lett.\\n2016, DOI: 10.1021/acs.orglett.6b01790.\\n\\nFor the application of\\n\\nJ. F.\\n\\nArticle\\n\\n(9) The bond length for Ir−C3 is 2.400 Å and for Ir−1 is 2.227 Å;\\nsee ref 8b for details. Studies by Hartwig et al. revealed that the\\nregioselectivity of the substitution process is usually high when the\\ndiﬀerence in Ir−C bond lengths is greater than 0.07 Å; see ref 7i for\\ndetails. Recent computational studies suggested that interactions of H-\\nbond acceptors with a vinyl C−H bond of the alkene ligand may\\ndetermine the formation of the branched product. See: Madrahimov,\\nS. T.; Li, Q.; Sharma, A.; Hartwig, J. F. J. Am. Chem. Soc. 2015, 137,\\n14968−14981.\\n(10) See the Supporting Information for details.\\n(11) (a) Boneu, B.; Destelle, G. Thromb. Haemostasis 1996, 76, 939−\\n943. (b) Coukell, A. J.; Markham, A. Drugs 1997, 54, 745−750.\\n(c) Yang, L. H.; Hoppensteadt, D.; Fareed, J. Thromb. Res. 1998, 92,\\n83−89. (d) Gurbel, P. A.; O’Connor, C. M.; Cummings, C. C.;\\nSerebruany, V. L. Pharmacol. Res. 1999, 40, 107−111.\\n(12) Blanchard, J.; Panak, E. Therapeutic compositions having\\nantithrombotic and anti-blood-platelet-aggregating activity . Canadian\\nPatent CA 1147658 A1 19830607, 1983.\\n(13) For the dihydroxylation of alkenes in the presence of OsO4, see:\\n(a) Milas, N. A.; Sussman, S. J. Am. Chem. Soc. 1936, 58, 1302−1304.\\nFor palladium-catalyzed direct oxidation of alkenes with molecular\\noxygen, see: (b) Wang, A.; Jiang, H. J. Org. Chem. 2010, 75, 2321−\\n2326 Wacker oxidation and ozonation were tested,\\nleading to a\\nmixture of unexpected compounds..\\n(14) Barluenga, J.; Rodríguez, F.; Álvarez-Rodrigo, L.; Zapico, J. M.;\\nFañanás, F. J. Chem. - Eur. J. 2004, 10, 109−116.\\n(15) Liu, W.-B.; Zhang, X.; Dai, L.-X.; You, S.-L. Angew. Chem., Int.\\nEd. 2012, 51, 5183−5187.\\n\\nF\\n\\nDOI: 10.1021/acs.organomet.6b00339\\nOrganometallics XXXX, XXX, XXX−XXX\\n\\n\\x0c']"
      ]
     },
     "execution_count": 8,
     "metadata": {},
     "output_type": "execute_result"
    }
   ],
   "source": [
    "texts = []\n",
    "\n",
    "for file in files:\n",
    "    texts.append(extract_text(file))\n",
    "texts"
   ]
  },
  {
   "cell_type": "code",
   "execution_count": 9,
   "metadata": {},
   "outputs": [
    {
     "data": {
      "text/plain": [
       "(21916, 35247)"
      ]
     },
     "execution_count": 9,
     "metadata": {},
     "output_type": "execute_result"
    }
   ],
   "source": [
    "len(texts[0]), len(texts[1])"
   ]
  },
  {
   "cell_type": "markdown",
   "metadata": {},
   "source": [
    "## step2 文档分割"
   ]
  },
  {
   "cell_type": "code",
   "execution_count": 10,
   "metadata": {},
   "outputs": [],
   "source": [
    "from langchain.text_splitter import RecursiveCharacterTextSplitter\n",
    "from langchain.vectorstores import Chroma"
   ]
  },
  {
   "cell_type": "code",
   "execution_count": 14,
   "metadata": {},
   "outputs": [
    {
     "data": {
      "text/plain": [
       "(['Communications\\n\\nAngewandte\\n\\nChemie\\n\\nAsymmetric Catalysis\\n\\nInternational Edition: DOI: 10.1002/anie.201700433\\nGerman Edition:\\nDOI: 10.1002/ange.201700433\\n\\nEnantioselective Iridium-Catalyzed Allylic Substitution with\\n2-Methylpyridines\\nXi-Jia Liu and Shu-Li You*',\n",
       "  'Abstract: An enantioselective iridium-catalyzed allylic sub-\\nstitution with a set of highly unstabilized nucleophiles gen-\\nerated in situ from 2-methylpyridines is described. Enantioen-\\nriched 2-substituted pyridines, which are frequently encoun-\\ntered in natural products and pharmaceuticals, could be easily\\nconstructed by this simple method in good yields and excellent\\nenantioselectivity. The synthetic utility of the pyridine products\\nis demonstrated through the synthesis of a key intermediate of',\n",
       "  'is demonstrated through the synthesis of a key intermediate of\\na reported Na+/H+ exchanger inhibitor and the total synthesis\\nof ((cid:2))-lycopladine A.',\n",
       "  'Pyridines are among the most prevalent heterocyclic',\n",
       "  'structural moieties in biologically active natural products,\\npharmaceuticals, and agrochemicals.[1] For example, twelve\\nsmall molecules containing a pyridine motif were listed in the\\ntop 200 pharmaceutical products in 2012, including the top\\nentry, Nexium.[2] Therefore, diverse functionalization of\\npyridine derivatives could lead to wide applications in many\\nfields.[3] One aspect of our ongoing efforts to develop methods\\nto build complex and biologically active molecules is the\\napplication of iridium-catalyzed allylic substitution reactions'],\n",
       " 156)"
      ]
     },
     "execution_count": 14,
     "metadata": {},
     "output_type": "execute_result"
    }
   ],
   "source": [
    "text_splitter = RecursiveCharacterTextSplitter(chunk_size=550, chunk_overlap=100)\n",
    "splits = []\n",
    "for text in texts:\n",
    "    splits.extend(text_splitter.split_text(text))\n",
    "splits[:5], len(splits)"
   ]
  },
  {
   "cell_type": "markdown",
   "metadata": {},
   "source": [
    "## step3 向量化并构建向量库"
   ]
  },
  {
   "cell_type": "code",
   "execution_count": 15,
   "metadata": {},
   "outputs": [],
   "source": [
    "from langchain.embeddings import HuggingFaceEmbeddings"
   ]
  },
  {
   "cell_type": "code",
   "execution_count": 19,
   "metadata": {},
   "outputs": [
    {
     "name": "stderr",
     "output_type": "stream",
     "text": [
      "c:\\Users\\HHH\\.conda\\envs\\chemical_rag\\lib\\site-packages\\transformers\\models\\bert\\modeling_bert.py:439: UserWarning: 1Torch was not compiled with flash attention. (Triggered internally at C:\\cb\\pytorch_1000000000000\\work\\aten\\src\\ATen\\native\\transformers\\cuda\\sdp_utils.cpp:263.)\n",
      "  attn_output = torch.nn.functional.scaled_dot_product_attention(\n",
      "c:\\Users\\HHH\\.conda\\envs\\chemical_rag\\lib\\site-packages\\langchain_core\\_api\\deprecation.py:141: LangChainDeprecationWarning: Since Chroma 0.4.x the manual persistence method is no longer supported as docs are automatically persisted.\n",
      "  warn_deprecated(\n"
     ]
    }
   ],
   "source": [
    "embedding = HuggingFaceEmbeddings(model_name=\"shibing624/text2vec-base-multilingual\")\n",
    "\n",
    "# 保存到当前根目录的vector_db文件夹下\n",
    "kb_name = \"vector_test1\"\n",
    "persist_directory = os.path.join(os.getcwd(), kb_name)\n",
    "\n",
    "vectordb = Chroma.from_texts(\n",
    "    texts=splits,\n",
    "    embedding=embedding,\n",
    "    persist_directory=persist_directory,\n",
    ")\n",
    "vectordb.persist()"
   ]
  },
  {
   "cell_type": "markdown",
   "metadata": {},
   "source": [
    "## step4 检索"
   ]
  },
  {
   "cell_type": "code",
   "execution_count": 35,
   "metadata": {},
   "outputs": [
    {
     "data": {
      "text/plain": [
       "'已知PDF内容：：\\neffect on enantioselectivity. However, the reaction did not\\nproceed to full conversion when 4 mol % of K1 was used.\\nBased on these results, the optimal reaction conditions were\\nestablished as described in Table 1, entry 11.\\n根据已知信息回答问题：\\n通过什么样的简单方法可以提高产率和对映选择性?\\n所有的回答都根据已知信息的内容来回答，不要编造内容。用中文回答问题。'"
      ]
     },
     "execution_count": 35,
     "metadata": {},
     "output_type": "execute_result"
    }
   ],
   "source": [
    "query = '通过什么样的简单方法可以提高产率和对映选择性?'\n",
    "q_docs = vectordb.similarity_search(query, k=1)\n",
    "# print(q_docs)\n",
    "context = [doc.page_content for doc in q_docs]\n",
    "# print('context', context)\n",
    "\n",
    "prompt = f\"已知PDF内容：：\\n{'-'.join(context)}\\n根据已知信息回答问题：\\n{query}\\n所有的回答都根据已知信息的内容来回答，不要编造内容。用中文回答问题。\"\n",
    "prompt"
   ]
  },
  {
   "cell_type": "markdown",
   "metadata": {},
   "source": [
    "## step5 根据context 生成答案"
   ]
  },
  {
   "cell_type": "code",
   "execution_count": 21,
   "metadata": {},
   "outputs": [],
   "source": [
    "from langchain_core.runnables import RunnablePassthrough\n",
    "from langchain_core.output_parsers import StrOutputParser"
   ]
  },
  {
   "cell_type": "code",
   "execution_count": 41,
   "metadata": {},
   "outputs": [
    {
     "name": "stderr",
     "output_type": "stream",
     "text": [
      "No sentence-transformers model found with name ./chemical-bert-uncased-simcse. Creating a new one with mean pooling.\n",
      "c:\\Users\\HHH\\.conda\\envs\\chemical_rag\\lib\\site-packages\\transformers\\tokenization_utils_base.py:1601: FutureWarning: `clean_up_tokenization_spaces` was not set. It will be set to `True` by default. This behavior will be depracted in transformers v4.45, and will be then set to `False` by default. For more details check this issue: https://github.com/huggingface/transformers/issues/31884\n",
      "  warnings.warn(\n"
     ]
    }
   ],
   "source": [
    "from sentence_transformers import SentenceTransformer\n",
    "\n",
    "# 从本地读取模型 ./chemical-bert-uncased-simcse\n",
    "model_name = \"./chemical-bert-uncased-simcse\"\n",
    "model = SentenceTransformer('./chemical-bert-uncased-simcse')"
   ]
  },
  {
   "cell_type": "code",
   "execution_count": 31,
   "metadata": {},
   "outputs": [],
   "source": [
    "from transformers import AutoTokenizer, AutoModelForSeq2SeqLM"
   ]
  },
  {
   "cell_type": "code",
   "execution_count": 32,
   "metadata": {},
   "outputs": [
    {
     "name": "stderr",
     "output_type": "stream",
     "text": [
      "c:\\Users\\HHH\\.conda\\envs\\chemical_rag\\lib\\site-packages\\transformers\\tokenization_utils_base.py:1601: FutureWarning: `clean_up_tokenization_spaces` was not set. It will be set to `True` by default. This behavior will be depracted in transformers v4.45, and will be then set to `False` by default. For more details check this issue: https://github.com/huggingface/transformers/issues/31884\n",
      "  warnings.warn(\n"
     ]
    },
    {
     "data": {
      "text/plain": [
       "BertTokenizerFast(name_or_path='./chemical-bert-uncased-simcse', vocab_size=31090, model_max_length=1000000000000000019884624838656, is_fast=True, padding_side='right', truncation_side='right', special_tokens={'unk_token': '[UNK]', 'sep_token': '[SEP]', 'pad_token': '[PAD]', 'cls_token': '[CLS]', 'mask_token': '[MASK]'}, clean_up_tokenization_spaces=True),  added_tokens_decoder={\n",
       "\t0: AddedToken(\"[PAD]\", rstrip=False, lstrip=False, single_word=False, normalized=False, special=True),\n",
       "\t101: AddedToken(\"[UNK]\", rstrip=False, lstrip=False, single_word=False, normalized=False, special=True),\n",
       "\t102: AddedToken(\"[CLS]\", rstrip=False, lstrip=False, single_word=False, normalized=False, special=True),\n",
       "\t103: AddedToken(\"[SEP]\", rstrip=False, lstrip=False, single_word=False, normalized=False, special=True),\n",
       "\t104: AddedToken(\"[MASK]\", rstrip=False, lstrip=False, single_word=False, normalized=False, special=True),\n",
       "}"
      ]
     },
     "execution_count": 32,
     "metadata": {},
     "output_type": "execute_result"
    }
   ],
   "source": [
    "tokenizer = AutoTokenizer.from_pretrained(model_name)\n",
    "tokenizer"
   ]
  },
  {
   "cell_type": "code",
   "execution_count": 44,
   "metadata": {},
   "outputs": [
    {
     "data": {
      "text/plain": [
       "{'input_ids': tensor([[  102,   101,   101, 11815,   101,   101,   101,   101,   907,   191,\n",
       "         17290, 19012,   707,   205,   694,   422,   111,  2426,  1544,   302,\n",
       "          3934,   147,  2327,  5602,   603,   286,  3903,  1863,   131,   231,\n",
       "         30130,   241,   501,   205,   791,   191,   407,   545,   422,   111,\n",
       "          2409,  2426,  1245,   267,  3452,   188,  1356,   121,  1020,   158,\n",
       "           422,  5762,  1021,   205,   101,   101,   101,   101,   101,   101,\n",
       "           101,   101,   101,   101,   101,   101,   101,   101,   101,   101,\n",
       "           101,   101,   101,   101,   101,   101,   101,   101,   101,   101,\n",
       "           101,   101,   101,   101,   101,   101,   101,  3912,   101,   101,\n",
       "           101,   101,   101,   101,   101,   101,   101,   101,   101,   101,\n",
       "           101,   101,   101,   101,   101,   101,   101,   101,   101,   101,\n",
       "           101,   101,   101,   101,   101,   101,   101,   101,   101,   101,\n",
       "           101,   101,   103]]), 'token_type_ids': tensor([[0, 0, 0, 0, 0, 0, 0, 0, 0, 0, 0, 0, 0, 0, 0, 0, 0, 0, 0, 0, 0, 0, 0, 0,\n",
       "         0, 0, 0, 0, 0, 0, 0, 0, 0, 0, 0, 0, 0, 0, 0, 0, 0, 0, 0, 0, 0, 0, 0, 0,\n",
       "         0, 0, 0, 0, 0, 0, 0, 0, 0, 0, 0, 0, 0, 0, 0, 0, 0, 0, 0, 0, 0, 0, 0, 0,\n",
       "         0, 0, 0, 0, 0, 0, 0, 0, 0, 0, 0, 0, 0, 0, 0, 0, 0, 0, 0, 0, 0, 0, 0, 0,\n",
       "         0, 0, 0, 0, 0, 0, 0, 0, 0, 0, 0, 0, 0, 0, 0, 0, 0, 0, 0, 0, 0, 0, 0, 0,\n",
       "         0, 0, 0]]), 'attention_mask': tensor([[1, 1, 1, 1, 1, 1, 1, 1, 1, 1, 1, 1, 1, 1, 1, 1, 1, 1, 1, 1, 1, 1, 1, 1,\n",
       "         1, 1, 1, 1, 1, 1, 1, 1, 1, 1, 1, 1, 1, 1, 1, 1, 1, 1, 1, 1, 1, 1, 1, 1,\n",
       "         1, 1, 1, 1, 1, 1, 1, 1, 1, 1, 1, 1, 1, 1, 1, 1, 1, 1, 1, 1, 1, 1, 1, 1,\n",
       "         1, 1, 1, 1, 1, 1, 1, 1, 1, 1, 1, 1, 1, 1, 1, 1, 1, 1, 1, 1, 1, 1, 1, 1,\n",
       "         1, 1, 1, 1, 1, 1, 1, 1, 1, 1, 1, 1, 1, 1, 1, 1, 1, 1, 1, 1, 1, 1, 1, 1,\n",
       "         1, 1, 1]])}"
      ]
     },
     "execution_count": 44,
     "metadata": {},
     "output_type": "execute_result"
    }
   ],
   "source": [
    "tokenized_inputs = tokenizer(prompt, return_tensors=\"pt\")\n",
    "tokenized_inputs"
   ]
  },
  {
   "cell_type": "code",
   "execution_count": 43,
   "metadata": {},
   "outputs": [],
   "source": [
    "import torch"
   ]
  },
  {
   "cell_type": "code",
   "execution_count": null,
   "metadata": {},
   "outputs": [],
   "source": [
    "sen = \"我觉得这家酒店不错，饭很好吃\"\n",
    "model.eval()\n",
    "id2_label = { 0:'差评', 1:'好评'}\n",
    "with torch.inference_mode():\n",
    "    inputs = tokenizer(sen, return_tensors=\"pt\")\n",
    "    # inputs = {k: v.cuda() for k, v in inputs.items()}\n",
    "    outputs = model(**inputs).logits\n",
    "    pred = torch.argmax(outputs, dim=-1)"
   ]
  },
  {
   "cell_type": "code",
   "execution_count": 45,
   "metadata": {},
   "outputs": [
    {
     "ename": "TypeError",
     "evalue": "Sequential.forward() got an unexpected keyword argument 'input_ids'",
     "output_type": "error",
     "traceback": [
      "\u001b[1;31m---------------------------------------------------------------------------\u001b[0m",
      "\u001b[1;31mTypeError\u001b[0m                                 Traceback (most recent call last)",
      "Cell \u001b[1;32mIn[45], line 1\u001b[0m\n\u001b[1;32m----> 1\u001b[0m output \u001b[38;5;241m=\u001b[39m model(\u001b[38;5;241m*\u001b[39m\u001b[38;5;241m*\u001b[39mtokenized_inputs)\n\u001b[0;32m      2\u001b[0m output\n",
      "File \u001b[1;32mc:\\Users\\HHH\\.conda\\envs\\chemical_rag\\lib\\site-packages\\torch\\nn\\modules\\module.py:1511\u001b[0m, in \u001b[0;36mModule._wrapped_call_impl\u001b[1;34m(self, *args, **kwargs)\u001b[0m\n\u001b[0;32m   1509\u001b[0m     \u001b[38;5;28;01mreturn\u001b[39;00m \u001b[38;5;28mself\u001b[39m\u001b[38;5;241m.\u001b[39m_compiled_call_impl(\u001b[38;5;241m*\u001b[39margs, \u001b[38;5;241m*\u001b[39m\u001b[38;5;241m*\u001b[39mkwargs)  \u001b[38;5;66;03m# type: ignore[misc]\u001b[39;00m\n\u001b[0;32m   1510\u001b[0m \u001b[38;5;28;01melse\u001b[39;00m:\n\u001b[1;32m-> 1511\u001b[0m     \u001b[38;5;28;01mreturn\u001b[39;00m \u001b[38;5;28mself\u001b[39m\u001b[38;5;241m.\u001b[39m_call_impl(\u001b[38;5;241m*\u001b[39margs, \u001b[38;5;241m*\u001b[39m\u001b[38;5;241m*\u001b[39mkwargs)\n",
      "File \u001b[1;32mc:\\Users\\HHH\\.conda\\envs\\chemical_rag\\lib\\site-packages\\torch\\nn\\modules\\module.py:1520\u001b[0m, in \u001b[0;36mModule._call_impl\u001b[1;34m(self, *args, **kwargs)\u001b[0m\n\u001b[0;32m   1515\u001b[0m \u001b[38;5;66;03m# If we don't have any hooks, we want to skip the rest of the logic in\u001b[39;00m\n\u001b[0;32m   1516\u001b[0m \u001b[38;5;66;03m# this function, and just call forward.\u001b[39;00m\n\u001b[0;32m   1517\u001b[0m \u001b[38;5;28;01mif\u001b[39;00m \u001b[38;5;129;01mnot\u001b[39;00m (\u001b[38;5;28mself\u001b[39m\u001b[38;5;241m.\u001b[39m_backward_hooks \u001b[38;5;129;01mor\u001b[39;00m \u001b[38;5;28mself\u001b[39m\u001b[38;5;241m.\u001b[39m_backward_pre_hooks \u001b[38;5;129;01mor\u001b[39;00m \u001b[38;5;28mself\u001b[39m\u001b[38;5;241m.\u001b[39m_forward_hooks \u001b[38;5;129;01mor\u001b[39;00m \u001b[38;5;28mself\u001b[39m\u001b[38;5;241m.\u001b[39m_forward_pre_hooks\n\u001b[0;32m   1518\u001b[0m         \u001b[38;5;129;01mor\u001b[39;00m _global_backward_pre_hooks \u001b[38;5;129;01mor\u001b[39;00m _global_backward_hooks\n\u001b[0;32m   1519\u001b[0m         \u001b[38;5;129;01mor\u001b[39;00m _global_forward_hooks \u001b[38;5;129;01mor\u001b[39;00m _global_forward_pre_hooks):\n\u001b[1;32m-> 1520\u001b[0m     \u001b[38;5;28;01mreturn\u001b[39;00m forward_call(\u001b[38;5;241m*\u001b[39margs, \u001b[38;5;241m*\u001b[39m\u001b[38;5;241m*\u001b[39mkwargs)\n\u001b[0;32m   1522\u001b[0m \u001b[38;5;28;01mtry\u001b[39;00m:\n\u001b[0;32m   1523\u001b[0m     result \u001b[38;5;241m=\u001b[39m \u001b[38;5;28;01mNone\u001b[39;00m\n",
      "\u001b[1;31mTypeError\u001b[0m: Sequential.forward() got an unexpected keyword argument 'input_ids'"
     ]
    }
   ],
   "source": [
    "output = model(**tokenized_inputs)\n",
    "output"
   ]
  },
  {
   "cell_type": "code",
   "execution_count": 25,
   "metadata": {},
   "outputs": [],
   "source": [
    "from langchain_community.chat_models import ChatOllama # ChatOllma聊天模型\n",
    "llm = ChatOllama(model=\"llama3\", temperature=1)\n"
   ]
  },
  {
   "cell_type": "code",
   "execution_count": 27,
   "metadata": {},
   "outputs": [],
   "source": [
    "from langchain.prompts import ChatPromptTemplate"
   ]
  },
  {
   "cell_type": "code",
   "execution_count": 30,
   "metadata": {},
   "outputs": [
    {
     "ename": "TypeError",
     "evalue": "'ChatPromptValue' object is not subscriptable",
     "output_type": "error",
     "traceback": [
      "\u001b[1;31m---------------------------------------------------------------------------\u001b[0m",
      "\u001b[1;31mTypeError\u001b[0m                                 Traceback (most recent call last)",
      "Cell \u001b[1;32mIn[30], line 14\u001b[0m\n\u001b[0;32m      5\u001b[0m     \u001b[38;5;28;01mreturn\u001b[39;00m \u001b[38;5;124m\"\u001b[39m\u001b[38;5;130;01m\\n\u001b[39;00m\u001b[38;5;130;01m\\n\u001b[39;00m\u001b[38;5;124m\"\u001b[39m\u001b[38;5;241m.\u001b[39mjoin([d\u001b[38;5;241m.\u001b[39mpage_content \u001b[38;5;28;01mfor\u001b[39;00m d \u001b[38;5;129;01min\u001b[39;00m docs])\n\u001b[0;32m      7\u001b[0m rag_chain \u001b[38;5;241m=\u001b[39m (\n\u001b[0;32m      8\u001b[0m     {\u001b[38;5;124m\"\u001b[39m\u001b[38;5;124mcontext\u001b[39m\u001b[38;5;124m\"\u001b[39m: retriver \u001b[38;5;241m|\u001b[39m format_docs, \u001b[38;5;124m\"\u001b[39m\u001b[38;5;124mquery\u001b[39m\u001b[38;5;124m\"\u001b[39m: RunnablePassthrough()}\n\u001b[0;32m      9\u001b[0m     \u001b[38;5;241m|\u001b[39m prompt\n\u001b[0;32m     10\u001b[0m     \u001b[38;5;241m|\u001b[39m model\n\u001b[0;32m     11\u001b[0m     \u001b[38;5;241m|\u001b[39m StrOutputParser()\n\u001b[0;32m     12\u001b[0m )\n\u001b[1;32m---> 14\u001b[0m response \u001b[38;5;241m=\u001b[39m \u001b[43mrag_chain\u001b[49m\u001b[38;5;241;43m.\u001b[39;49m\u001b[43minvoke\u001b[49m\u001b[43m(\u001b[49m\u001b[43mquery\u001b[49m\u001b[43m)\u001b[49m\n\u001b[0;32m     15\u001b[0m \u001b[38;5;28mprint\u001b[39m(response)\n",
      "File \u001b[1;32mc:\\Users\\HHH\\.conda\\envs\\chemical_rag\\lib\\site-packages\\langchain_core\\runnables\\base.py:2878\u001b[0m, in \u001b[0;36mRunnableSequence.invoke\u001b[1;34m(self, input, config, **kwargs)\u001b[0m\n\u001b[0;32m   2876\u001b[0m             \u001b[38;5;28minput\u001b[39m \u001b[38;5;241m=\u001b[39m context\u001b[38;5;241m.\u001b[39mrun(step\u001b[38;5;241m.\u001b[39minvoke, \u001b[38;5;28minput\u001b[39m, config, \u001b[38;5;241m*\u001b[39m\u001b[38;5;241m*\u001b[39mkwargs)\n\u001b[0;32m   2877\u001b[0m         \u001b[38;5;28;01melse\u001b[39;00m:\n\u001b[1;32m-> 2878\u001b[0m             \u001b[38;5;28minput\u001b[39m \u001b[38;5;241m=\u001b[39m \u001b[43mcontext\u001b[49m\u001b[38;5;241;43m.\u001b[39;49m\u001b[43mrun\u001b[49m\u001b[43m(\u001b[49m\u001b[43mstep\u001b[49m\u001b[38;5;241;43m.\u001b[39;49m\u001b[43minvoke\u001b[49m\u001b[43m,\u001b[49m\u001b[43m \u001b[49m\u001b[38;5;28;43minput\u001b[39;49m\u001b[43m,\u001b[49m\u001b[43m \u001b[49m\u001b[43mconfig\u001b[49m\u001b[43m)\u001b[49m\n\u001b[0;32m   2879\u001b[0m \u001b[38;5;66;03m# finish the root run\u001b[39;00m\n\u001b[0;32m   2880\u001b[0m \u001b[38;5;28;01mexcept\u001b[39;00m \u001b[38;5;167;01mBaseException\u001b[39;00m \u001b[38;5;28;01mas\u001b[39;00m e:\n",
      "File \u001b[1;32mc:\\Users\\HHH\\.conda\\envs\\chemical_rag\\lib\\site-packages\\langchain_core\\runnables\\base.py:4475\u001b[0m, in \u001b[0;36mRunnableLambda.invoke\u001b[1;34m(self, input, config, **kwargs)\u001b[0m\n\u001b[0;32m   4461\u001b[0m \u001b[38;5;250m\u001b[39m\u001b[38;5;124;03m\"\"\"Invoke this Runnable synchronously.\u001b[39;00m\n\u001b[0;32m   4462\u001b[0m \n\u001b[0;32m   4463\u001b[0m \u001b[38;5;124;03mArgs:\u001b[39;00m\n\u001b[1;32m   (...)\u001b[0m\n\u001b[0;32m   4472\u001b[0m \u001b[38;5;124;03m    TypeError: If the Runnable is a coroutine function.\u001b[39;00m\n\u001b[0;32m   4473\u001b[0m \u001b[38;5;124;03m\"\"\"\u001b[39;00m\n\u001b[0;32m   4474\u001b[0m \u001b[38;5;28;01mif\u001b[39;00m \u001b[38;5;28mhasattr\u001b[39m(\u001b[38;5;28mself\u001b[39m, \u001b[38;5;124m\"\u001b[39m\u001b[38;5;124mfunc\u001b[39m\u001b[38;5;124m\"\u001b[39m):\n\u001b[1;32m-> 4475\u001b[0m     \u001b[38;5;28;01mreturn\u001b[39;00m \u001b[38;5;28mself\u001b[39m\u001b[38;5;241m.\u001b[39m_call_with_config(\n\u001b[0;32m   4476\u001b[0m         \u001b[38;5;28mself\u001b[39m\u001b[38;5;241m.\u001b[39m_invoke,\n\u001b[0;32m   4477\u001b[0m         \u001b[38;5;28minput\u001b[39m,\n\u001b[0;32m   4478\u001b[0m         \u001b[38;5;28mself\u001b[39m\u001b[38;5;241m.\u001b[39m_config(config, \u001b[38;5;28mself\u001b[39m\u001b[38;5;241m.\u001b[39mfunc),\n\u001b[0;32m   4479\u001b[0m         \u001b[38;5;241m*\u001b[39m\u001b[38;5;241m*\u001b[39mkwargs,\n\u001b[0;32m   4480\u001b[0m     )\n\u001b[0;32m   4481\u001b[0m \u001b[38;5;28;01melse\u001b[39;00m:\n\u001b[0;32m   4482\u001b[0m     \u001b[38;5;28;01mraise\u001b[39;00m \u001b[38;5;167;01mTypeError\u001b[39;00m(\n\u001b[0;32m   4483\u001b[0m         \u001b[38;5;124m\"\u001b[39m\u001b[38;5;124mCannot invoke a coroutine function synchronously.\u001b[39m\u001b[38;5;124m\"\u001b[39m\n\u001b[0;32m   4484\u001b[0m         \u001b[38;5;124m\"\u001b[39m\u001b[38;5;124mUse `ainvoke` instead.\u001b[39m\u001b[38;5;124m\"\u001b[39m\n\u001b[0;32m   4485\u001b[0m     )\n",
      "File \u001b[1;32mc:\\Users\\HHH\\.conda\\envs\\chemical_rag\\lib\\site-packages\\langchain_core\\runnables\\base.py:1785\u001b[0m, in \u001b[0;36mRunnable._call_with_config\u001b[1;34m(self, func, input, config, run_type, **kwargs)\u001b[0m\n\u001b[0;32m   1781\u001b[0m     context \u001b[38;5;241m=\u001b[39m copy_context()\n\u001b[0;32m   1782\u001b[0m     context\u001b[38;5;241m.\u001b[39mrun(_set_config_context, child_config)\n\u001b[0;32m   1783\u001b[0m     output \u001b[38;5;241m=\u001b[39m cast(\n\u001b[0;32m   1784\u001b[0m         Output,\n\u001b[1;32m-> 1785\u001b[0m         context\u001b[38;5;241m.\u001b[39mrun(\n\u001b[0;32m   1786\u001b[0m             call_func_with_variable_args,  \u001b[38;5;66;03m# type: ignore[arg-type]\u001b[39;00m\n\u001b[0;32m   1787\u001b[0m             func,  \u001b[38;5;66;03m# type: ignore[arg-type]\u001b[39;00m\n\u001b[0;32m   1788\u001b[0m             \u001b[38;5;28minput\u001b[39m,  \u001b[38;5;66;03m# type: ignore[arg-type]\u001b[39;00m\n\u001b[0;32m   1789\u001b[0m             config,\n\u001b[0;32m   1790\u001b[0m             run_manager,\n\u001b[0;32m   1791\u001b[0m             \u001b[38;5;241m*\u001b[39m\u001b[38;5;241m*\u001b[39mkwargs,\n\u001b[0;32m   1792\u001b[0m         ),\n\u001b[0;32m   1793\u001b[0m     )\n\u001b[0;32m   1794\u001b[0m \u001b[38;5;28;01mexcept\u001b[39;00m \u001b[38;5;167;01mBaseException\u001b[39;00m \u001b[38;5;28;01mas\u001b[39;00m e:\n\u001b[0;32m   1795\u001b[0m     run_manager\u001b[38;5;241m.\u001b[39mon_chain_error(e)\n",
      "File \u001b[1;32mc:\\Users\\HHH\\.conda\\envs\\chemical_rag\\lib\\site-packages\\langchain_core\\runnables\\config.py:397\u001b[0m, in \u001b[0;36mcall_func_with_variable_args\u001b[1;34m(func, input, config, run_manager, **kwargs)\u001b[0m\n\u001b[0;32m    395\u001b[0m \u001b[38;5;28;01mif\u001b[39;00m run_manager \u001b[38;5;129;01mis\u001b[39;00m \u001b[38;5;129;01mnot\u001b[39;00m \u001b[38;5;28;01mNone\u001b[39;00m \u001b[38;5;129;01mand\u001b[39;00m accepts_run_manager(func):\n\u001b[0;32m    396\u001b[0m     kwargs[\u001b[38;5;124m\"\u001b[39m\u001b[38;5;124mrun_manager\u001b[39m\u001b[38;5;124m\"\u001b[39m] \u001b[38;5;241m=\u001b[39m run_manager\n\u001b[1;32m--> 397\u001b[0m \u001b[38;5;28;01mreturn\u001b[39;00m func(\u001b[38;5;28minput\u001b[39m, \u001b[38;5;241m*\u001b[39m\u001b[38;5;241m*\u001b[39mkwargs)\n",
      "File \u001b[1;32mc:\\Users\\HHH\\.conda\\envs\\chemical_rag\\lib\\site-packages\\langchain_core\\runnables\\base.py:4331\u001b[0m, in \u001b[0;36mRunnableLambda._invoke\u001b[1;34m(self, input, run_manager, config, **kwargs)\u001b[0m\n\u001b[0;32m   4329\u001b[0m                 output \u001b[38;5;241m=\u001b[39m chunk\n\u001b[0;32m   4330\u001b[0m \u001b[38;5;28;01melse\u001b[39;00m:\n\u001b[1;32m-> 4331\u001b[0m     output \u001b[38;5;241m=\u001b[39m call_func_with_variable_args(\n\u001b[0;32m   4332\u001b[0m         \u001b[38;5;28mself\u001b[39m\u001b[38;5;241m.\u001b[39mfunc, \u001b[38;5;28minput\u001b[39m, config, run_manager, \u001b[38;5;241m*\u001b[39m\u001b[38;5;241m*\u001b[39mkwargs\n\u001b[0;32m   4333\u001b[0m     )\n\u001b[0;32m   4334\u001b[0m \u001b[38;5;66;03m# If the output is a Runnable, invoke it\u001b[39;00m\n\u001b[0;32m   4335\u001b[0m \u001b[38;5;28;01mif\u001b[39;00m \u001b[38;5;28misinstance\u001b[39m(output, Runnable):\n",
      "File \u001b[1;32mc:\\Users\\HHH\\.conda\\envs\\chemical_rag\\lib\\site-packages\\langchain_core\\runnables\\config.py:397\u001b[0m, in \u001b[0;36mcall_func_with_variable_args\u001b[1;34m(func, input, config, run_manager, **kwargs)\u001b[0m\n\u001b[0;32m    395\u001b[0m \u001b[38;5;28;01mif\u001b[39;00m run_manager \u001b[38;5;129;01mis\u001b[39;00m \u001b[38;5;129;01mnot\u001b[39;00m \u001b[38;5;28;01mNone\u001b[39;00m \u001b[38;5;129;01mand\u001b[39;00m accepts_run_manager(func):\n\u001b[0;32m    396\u001b[0m     kwargs[\u001b[38;5;124m\"\u001b[39m\u001b[38;5;124mrun_manager\u001b[39m\u001b[38;5;124m\"\u001b[39m] \u001b[38;5;241m=\u001b[39m run_manager\n\u001b[1;32m--> 397\u001b[0m \u001b[38;5;28;01mreturn\u001b[39;00m func(\u001b[38;5;28minput\u001b[39m, \u001b[38;5;241m*\u001b[39m\u001b[38;5;241m*\u001b[39mkwargs)\n",
      "File \u001b[1;32mc:\\Users\\HHH\\.conda\\envs\\chemical_rag\\lib\\site-packages\\torch\\nn\\modules\\module.py:1511\u001b[0m, in \u001b[0;36mModule._wrapped_call_impl\u001b[1;34m(self, *args, **kwargs)\u001b[0m\n\u001b[0;32m   1509\u001b[0m     \u001b[38;5;28;01mreturn\u001b[39;00m \u001b[38;5;28mself\u001b[39m\u001b[38;5;241m.\u001b[39m_compiled_call_impl(\u001b[38;5;241m*\u001b[39margs, \u001b[38;5;241m*\u001b[39m\u001b[38;5;241m*\u001b[39mkwargs)  \u001b[38;5;66;03m# type: ignore[misc]\u001b[39;00m\n\u001b[0;32m   1510\u001b[0m \u001b[38;5;28;01melse\u001b[39;00m:\n\u001b[1;32m-> 1511\u001b[0m     \u001b[38;5;28;01mreturn\u001b[39;00m \u001b[38;5;28mself\u001b[39m\u001b[38;5;241m.\u001b[39m_call_impl(\u001b[38;5;241m*\u001b[39margs, \u001b[38;5;241m*\u001b[39m\u001b[38;5;241m*\u001b[39mkwargs)\n",
      "File \u001b[1;32mc:\\Users\\HHH\\.conda\\envs\\chemical_rag\\lib\\site-packages\\torch\\nn\\modules\\module.py:1520\u001b[0m, in \u001b[0;36mModule._call_impl\u001b[1;34m(self, *args, **kwargs)\u001b[0m\n\u001b[0;32m   1515\u001b[0m \u001b[38;5;66;03m# If we don't have any hooks, we want to skip the rest of the logic in\u001b[39;00m\n\u001b[0;32m   1516\u001b[0m \u001b[38;5;66;03m# this function, and just call forward.\u001b[39;00m\n\u001b[0;32m   1517\u001b[0m \u001b[38;5;28;01mif\u001b[39;00m \u001b[38;5;129;01mnot\u001b[39;00m (\u001b[38;5;28mself\u001b[39m\u001b[38;5;241m.\u001b[39m_backward_hooks \u001b[38;5;129;01mor\u001b[39;00m \u001b[38;5;28mself\u001b[39m\u001b[38;5;241m.\u001b[39m_backward_pre_hooks \u001b[38;5;129;01mor\u001b[39;00m \u001b[38;5;28mself\u001b[39m\u001b[38;5;241m.\u001b[39m_forward_hooks \u001b[38;5;129;01mor\u001b[39;00m \u001b[38;5;28mself\u001b[39m\u001b[38;5;241m.\u001b[39m_forward_pre_hooks\n\u001b[0;32m   1518\u001b[0m         \u001b[38;5;129;01mor\u001b[39;00m _global_backward_pre_hooks \u001b[38;5;129;01mor\u001b[39;00m _global_backward_hooks\n\u001b[0;32m   1519\u001b[0m         \u001b[38;5;129;01mor\u001b[39;00m _global_forward_hooks \u001b[38;5;129;01mor\u001b[39;00m _global_forward_pre_hooks):\n\u001b[1;32m-> 1520\u001b[0m     \u001b[38;5;28;01mreturn\u001b[39;00m forward_call(\u001b[38;5;241m*\u001b[39margs, \u001b[38;5;241m*\u001b[39m\u001b[38;5;241m*\u001b[39mkwargs)\n\u001b[0;32m   1522\u001b[0m \u001b[38;5;28;01mtry\u001b[39;00m:\n\u001b[0;32m   1523\u001b[0m     result \u001b[38;5;241m=\u001b[39m \u001b[38;5;28;01mNone\u001b[39;00m\n",
      "File \u001b[1;32mc:\\Users\\HHH\\.conda\\envs\\chemical_rag\\lib\\site-packages\\torch\\nn\\modules\\container.py:217\u001b[0m, in \u001b[0;36mSequential.forward\u001b[1;34m(self, input)\u001b[0m\n\u001b[0;32m    215\u001b[0m \u001b[38;5;28;01mdef\u001b[39;00m \u001b[38;5;21mforward\u001b[39m(\u001b[38;5;28mself\u001b[39m, \u001b[38;5;28minput\u001b[39m):\n\u001b[0;32m    216\u001b[0m     \u001b[38;5;28;01mfor\u001b[39;00m module \u001b[38;5;129;01min\u001b[39;00m \u001b[38;5;28mself\u001b[39m:\n\u001b[1;32m--> 217\u001b[0m         \u001b[38;5;28minput\u001b[39m \u001b[38;5;241m=\u001b[39m \u001b[43mmodule\u001b[49m\u001b[43m(\u001b[49m\u001b[38;5;28;43minput\u001b[39;49m\u001b[43m)\u001b[49m\n\u001b[0;32m    218\u001b[0m     \u001b[38;5;28;01mreturn\u001b[39;00m \u001b[38;5;28minput\u001b[39m\n",
      "File \u001b[1;32mc:\\Users\\HHH\\.conda\\envs\\chemical_rag\\lib\\site-packages\\torch\\nn\\modules\\module.py:1511\u001b[0m, in \u001b[0;36mModule._wrapped_call_impl\u001b[1;34m(self, *args, **kwargs)\u001b[0m\n\u001b[0;32m   1509\u001b[0m     \u001b[38;5;28;01mreturn\u001b[39;00m \u001b[38;5;28mself\u001b[39m\u001b[38;5;241m.\u001b[39m_compiled_call_impl(\u001b[38;5;241m*\u001b[39margs, \u001b[38;5;241m*\u001b[39m\u001b[38;5;241m*\u001b[39mkwargs)  \u001b[38;5;66;03m# type: ignore[misc]\u001b[39;00m\n\u001b[0;32m   1510\u001b[0m \u001b[38;5;28;01melse\u001b[39;00m:\n\u001b[1;32m-> 1511\u001b[0m     \u001b[38;5;28;01mreturn\u001b[39;00m \u001b[38;5;28mself\u001b[39m\u001b[38;5;241m.\u001b[39m_call_impl(\u001b[38;5;241m*\u001b[39margs, \u001b[38;5;241m*\u001b[39m\u001b[38;5;241m*\u001b[39mkwargs)\n",
      "File \u001b[1;32mc:\\Users\\HHH\\.conda\\envs\\chemical_rag\\lib\\site-packages\\torch\\nn\\modules\\module.py:1520\u001b[0m, in \u001b[0;36mModule._call_impl\u001b[1;34m(self, *args, **kwargs)\u001b[0m\n\u001b[0;32m   1515\u001b[0m \u001b[38;5;66;03m# If we don't have any hooks, we want to skip the rest of the logic in\u001b[39;00m\n\u001b[0;32m   1516\u001b[0m \u001b[38;5;66;03m# this function, and just call forward.\u001b[39;00m\n\u001b[0;32m   1517\u001b[0m \u001b[38;5;28;01mif\u001b[39;00m \u001b[38;5;129;01mnot\u001b[39;00m (\u001b[38;5;28mself\u001b[39m\u001b[38;5;241m.\u001b[39m_backward_hooks \u001b[38;5;129;01mor\u001b[39;00m \u001b[38;5;28mself\u001b[39m\u001b[38;5;241m.\u001b[39m_backward_pre_hooks \u001b[38;5;129;01mor\u001b[39;00m \u001b[38;5;28mself\u001b[39m\u001b[38;5;241m.\u001b[39m_forward_hooks \u001b[38;5;129;01mor\u001b[39;00m \u001b[38;5;28mself\u001b[39m\u001b[38;5;241m.\u001b[39m_forward_pre_hooks\n\u001b[0;32m   1518\u001b[0m         \u001b[38;5;129;01mor\u001b[39;00m _global_backward_pre_hooks \u001b[38;5;129;01mor\u001b[39;00m _global_backward_hooks\n\u001b[0;32m   1519\u001b[0m         \u001b[38;5;129;01mor\u001b[39;00m _global_forward_hooks \u001b[38;5;129;01mor\u001b[39;00m _global_forward_pre_hooks):\n\u001b[1;32m-> 1520\u001b[0m     \u001b[38;5;28;01mreturn\u001b[39;00m forward_call(\u001b[38;5;241m*\u001b[39margs, \u001b[38;5;241m*\u001b[39m\u001b[38;5;241m*\u001b[39mkwargs)\n\u001b[0;32m   1522\u001b[0m \u001b[38;5;28;01mtry\u001b[39;00m:\n\u001b[0;32m   1523\u001b[0m     result \u001b[38;5;241m=\u001b[39m \u001b[38;5;28;01mNone\u001b[39;00m\n",
      "File \u001b[1;32mc:\\Users\\HHH\\.conda\\envs\\chemical_rag\\lib\\site-packages\\sentence_transformers\\models\\Transformer.py:114\u001b[0m, in \u001b[0;36mTransformer.forward\u001b[1;34m(self, features)\u001b[0m\n\u001b[0;32m    112\u001b[0m \u001b[38;5;28;01mdef\u001b[39;00m \u001b[38;5;21mforward\u001b[39m(\u001b[38;5;28mself\u001b[39m, features: Dict[\u001b[38;5;28mstr\u001b[39m, torch\u001b[38;5;241m.\u001b[39mTensor]) \u001b[38;5;241m-\u001b[39m\u001b[38;5;241m>\u001b[39m Dict[\u001b[38;5;28mstr\u001b[39m, torch\u001b[38;5;241m.\u001b[39mTensor]:\n\u001b[0;32m    113\u001b[0m \u001b[38;5;250m    \u001b[39m\u001b[38;5;124;03m\"\"\"Returns token_embeddings, cls_token\"\"\"\u001b[39;00m\n\u001b[1;32m--> 114\u001b[0m     trans_features \u001b[38;5;241m=\u001b[39m {\u001b[38;5;124m\"\u001b[39m\u001b[38;5;124minput_ids\u001b[39m\u001b[38;5;124m\"\u001b[39m: \u001b[43mfeatures\u001b[49m\u001b[43m[\u001b[49m\u001b[38;5;124;43m\"\u001b[39;49m\u001b[38;5;124;43minput_ids\u001b[39;49m\u001b[38;5;124;43m\"\u001b[39;49m\u001b[43m]\u001b[49m, \u001b[38;5;124m\"\u001b[39m\u001b[38;5;124mattention_mask\u001b[39m\u001b[38;5;124m\"\u001b[39m: features[\u001b[38;5;124m\"\u001b[39m\u001b[38;5;124mattention_mask\u001b[39m\u001b[38;5;124m\"\u001b[39m]}\n\u001b[0;32m    115\u001b[0m     \u001b[38;5;28;01mif\u001b[39;00m \u001b[38;5;124m\"\u001b[39m\u001b[38;5;124mtoken_type_ids\u001b[39m\u001b[38;5;124m\"\u001b[39m \u001b[38;5;129;01min\u001b[39;00m features:\n\u001b[0;32m    116\u001b[0m         trans_features[\u001b[38;5;124m\"\u001b[39m\u001b[38;5;124mtoken_type_ids\u001b[39m\u001b[38;5;124m\"\u001b[39m] \u001b[38;5;241m=\u001b[39m features[\u001b[38;5;124m\"\u001b[39m\u001b[38;5;124mtoken_type_ids\u001b[39m\u001b[38;5;124m\"\u001b[39m]\n",
      "\u001b[1;31mTypeError\u001b[0m: 'ChatPromptValue' object is not subscriptable"
     ]
    }
   ],
   "source": [
    "retriver = vectordb.as_retriever(search_type=\"similarity\", search_kwargs={\"k\": 2})\n",
    "# prompt = ChatPromptTemplate.from_template(prompt)\n",
    "\n",
    "def format_docs(docs):\n",
    "    return \"\\n\\n\".join([d.page_content for d in docs])\n",
    "\n",
    "rag_chain = (\n",
    "    {\"context\": retriver | format_docs, \"query\": RunnablePassthrough()}\n",
    "    | prompt\n",
    "    | model\n",
    "    | StrOutputParser()\n",
    ")\n",
    "\n",
    "response = rag_chain.invoke(query)\n",
    "print(response)"
   ]
  }
 ],
 "metadata": {
  "kernelspec": {
   "display_name": "chemical_rag",
   "language": "python",
   "name": "python3"
  },
  "language_info": {
   "codemirror_mode": {
    "name": "ipython",
    "version": 3
   },
   "file_extension": ".py",
   "mimetype": "text/x-python",
   "name": "python",
   "nbconvert_exporter": "python",
   "pygments_lexer": "ipython3",
   "version": "3.10.14"
  }
 },
 "nbformat": 4,
 "nbformat_minor": 2
}
