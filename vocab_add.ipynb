{
 "cells": [
  {
   "cell_type": "markdown",
   "metadata": {},
   "source": [
    "# 词表扩充"
   ]
  },
  {
   "cell_type": "markdown",
   "metadata": {},
   "source": [
    "在中文语料库上训练一个中文tokenizer模型，然后将中文 tokenizer 与 LLaMA 原生的 tokenizer 进行合并，通过组合它们的词汇表，最终获得一个合并后的 tokenizer 模型。"
   ]
  },
  {
   "cell_type": "markdown",
   "metadata": {},
   "source": [
    "今天的工作是获得一个中文的bpe分词模型。"
   ]
  },
  {
   "cell_type": "markdown",
   "metadata": {},
   "source": [
    "## 数据预处理"
   ]
  },
  {
   "cell_type": "code",
   "execution_count": 3,
   "metadata": {},
   "outputs": [],
   "source": [
    "with open(\"./data/轮回乐园.txt\", \"r\", encoding=\"utf-8\") as fp:\n",
    "    data = fp.read().strip().split(\"\\n\")\n",
    "sentences = []\n",
    "# len(data), data\n",
    "for d in data:\n",
    "    d = d.strip()\n",
    "    if \"---\" in d or len(d) < 2 or d == \" \": \n",
    "        continue\n",
    "    sentences.append(d)\n",
    "\n",
    "with open(\"data/corpus.txt\", \"w\", encoding=\"utf-8\") as fp:\n",
    "    fp.write(\"\\n\".join(sentences))"
   ]
  },
  {
   "cell_type": "code",
   "execution_count": 1,
   "metadata": {},
   "outputs": [],
   "source": [
    "import sentencepiece as spm"
   ]
  },
  {
   "cell_type": "code",
   "execution_count": 2,
   "metadata": {},
   "outputs": [],
   "source": [
    "spm.SentencePieceTrainer.train(\n",
    "    input='./data/corpus.txt',\n",
    "    model_prefix='tokenizer_spm_model',\n",
    "    vocab_size=5000,\n",
    "    character_coverage=0.9995, # 字符集丰富的中文、日文，设置为0.9995\n",
    "    model_type='bpe', # unigram、bpe、word和char\n",
    "    max_sentence_length=2048, # UTF-8中一个汉字3个字节，最大长度为2048字节\n",
    ")"
   ]
  },
  {
   "cell_type": "markdown",
   "metadata": {},
   "source": [
    "## 合并LLama2词表和中文词表"
   ]
  },
  {
   "cell_type": "code",
   "execution_count": 3,
   "metadata": {},
   "outputs": [],
   "source": [
    "import os\n",
    "\n",
    "os.environ[\"PROTOCOL_BUFFERS_PYTHON_IMPLEMENTATION\"] = \"python\"\n",
    "from transformers import LlamaTokenizer\n",
    "from sentencepiece import sentencepiece_model_pb2 as sp_pb2_model\n",
    "import sentencepiece as spm"
   ]
  },
  {
   "cell_type": "code",
   "execution_count": null,
   "metadata": {},
   "outputs": [],
   "source": [
    "llama2_tokenizer_dir = \"llama2_tokenizer/tokenizer.model\"\n",
    "llama2_tokenizer = LlamaTokenizer.from_pretrained(llama2_tokenizer_dir)\n",
    "\n",
    "chinese_sp_model = spm.SentencePieceProcessor()\n",
    "chinese_sp_model_file = \"tokenizer_spm_model.model\"\n",
    "chinese_sp_model.Load(chinese_sp_model_file)"
   ]
  },
  {
   "cell_type": "code",
   "execution_count": null,
   "metadata": {},
   "outputs": [],
   "source": [
    "llama2_spm = sp_pb2_model.ModelProto()\n",
    "llama2_spm.ParseFromString(llama2_tokenizer.sp_model.serialized_model_proto())\n",
    "\n",
    "chinese_spm = sp_pb2_model.ModelProto()\n",
    "chinese_spm.ParseFromString(chinese_sp_model.serialized_model_proto())"
   ]
  },
  {
   "cell_type": "code",
   "execution_count": null,
   "metadata": {},
   "outputs": [],
   "source": [
    "# print number of tokens\n",
    "len(llama2_tokenizer), len(chinese_sp_model)\n",
    "llama2_tokenizer.all_special_tokens\n",
    "llama2_tokenizer.all_special_ids\n",
    "llama2_tokenizer.special_tokens_map\n",
    "\n",
    "# add chinese tokens to llama2 tokenizer\n",
    "llama_spm_tokens_set = set(p.piece for p in llama2_spm.pieces)\n",
    "len(llama_spm_tokens_set)\n",
    "f\"Before: {len(llama_spm_tokens_set)}\"\n",
    "\n",
    "for p in chinese_spm.pieces:\n",
    "    piece = p.piece\n",
    "    if piece not in llama_spm_tokens_set:\n",
    "        new_p = sp_pb2_model.ModelProto().SentencePiece()\n",
    "        new_p.piece = piece\n",
    "        new_p.score = 0\n",
    "        llama2_spm.pieces.append(new_p)\n",
    "f\"New model pieces: {len(llama2_spm.pieces)}\""
   ]
  },
  {
   "cell_type": "code",
   "execution_count": null,
   "metadata": {},
   "outputs": [],
   "source": [
    "## save\n",
    "output_sp_dir = 'llama2_chinese'\n",
    "os.makedirs(output_sp_dir, exist_ok=True)\n",
    "with open(output_sp_dir + '/chinese_llama2.model', 'wb') as f:\n",
    "    f.write(llama2_spm.SerializeToString())\n",
    "tokenizer = LlamaTokenizer(vocab_file=output_sp_dir + '/chinese_llama2.model')"
   ]
  },
  {
   "cell_type": "code",
   "execution_count": null,
   "metadata": {},
   "outputs": [],
   "source": [
    "output_hf_dir = 'llama2_chinese'\n",
    "os.makedirs(output_hf_dir, exist_ok=True)\n",
    "tokenizer.save_pretrained(output_hf_dir)\n",
    "f\"Chinese-LLaMA tokenizer has been saved to {output_hf_dir}\""
   ]
  },
  {
   "cell_type": "code",
   "execution_count": null,
   "metadata": {},
   "outputs": [],
   "source": [
    "# test\n",
    "llama_tokenizer = LlamaTokenizer.from_pretrained(llama2_tokenizer_dir)\n",
    "chinese_llama_tokenizer = LlamaTokenizer.from_pretrained(output_hf_dir)\n",
    "tokenizer.all_special_ids\n",
    "tokenizer.all_special_tokens\n",
    "tokenizer.special_tokens_map\n",
    "text = \"白日依山尽，黄河入海流。欲穷千里目，更上一层楼\"\n",
    "f\"test text: {text}\"\n",
    "f\"tokenized by llama2 tokenizer: {llama_tokenizer.tokenize(text)}\"\n",
    "f\"tokenized by chinese llama tokenizer: {chinese_llama_tokenizer.tokenize(text)}\""
   ]
  }
 ],
 "metadata": {
  "kernelspec": {
   "display_name": "chemical_rag",
   "language": "python",
   "name": "python3"
  },
  "language_info": {
   "codemirror_mode": {
    "name": "ipython",
    "version": 3
   },
   "file_extension": ".py",
   "mimetype": "text/x-python",
   "name": "python",
   "nbconvert_exporter": "python",
   "pygments_lexer": "ipython3",
   "version": "3.10.14"
  }
 },
 "nbformat": 4,
 "nbformat_minor": 2
}
